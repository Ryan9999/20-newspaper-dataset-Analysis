{
  "cells": [
    {
      "cell_type": "markdown",
      "metadata": {
        "id": "JU9O-ay1z4cE"
      },
      "source": [
        "**AML -ASSIGNMENT**\n",
        "\n",
        "20 Newsgroups Dataset Assignment: Text Classification and Clustering"
      ]
    },
    {
      "cell_type": "markdown",
      "metadata": {
        "id": "oBAkT5LL0kiO"
      },
      "source": [
        "**Assignment Description**\n",
        "\n",
        "1. Part 1: Text Pre-processing and Embedding Comparison (20 Points)\n",
        "\n",
        "*   Preprocessing steps correctly implemented and explained\n",
        "*   Comparison of word2vec, GloVe, and OpenAI embeddings\n",
        "*   Discussion on the embeddings that provide better semantic understanding\n",
        "\n",
        "2. Part 2: Text Classification Model (20 Points)\n",
        "\n",
        "*   Correct implementation of chosen classification model\n",
        "*   Comprehensive discussion on the choice of model, including its advantages and disadvantages\n",
        "\n",
        "3. Part 3: Text Clustering Model (20 Points)\n",
        "\n",
        "*   Correct implementation of chosen clustering model\n",
        "*   Comprehensive discussion on the choice of model, including its pros and cons\n",
        "\n",
        "4. Part 4: Model Evaluation (20 Points)\n",
        "\n",
        "\n",
        "*   Appropriate metrics chosen and correctly used to evaluate models\n",
        "*   Comprehensive discussion on the choice of metrics\n",
        "\n",
        "\n",
        "5. Part 5: Model Improvement Discussion (20 Points)\n",
        "\n",
        "\n",
        "*   Comprehensive discussion on potential improvements, including handling unbalanced data, dealing with slang, abbreviations or typos, and addressing context and word disambiguation challenges\n",
        "Dataset Link : http://qwone.com/~jason/20Newsgroups\n",
        "           20news-19997.tar.gz - Original 20 Newsgroups data set\n",
        "\n",
        "\n",
        "\n"
      ]
    },
    {
      "cell_type": "code",
      "execution_count": 1,
      "metadata": {
        "id": "bcbSzK2vRq8z"
      },
      "outputs": [],
      "source": [
        "import re\n",
        "import os\n",
        "from time import time\n",
        "import requests\n",
        "import tarfile\n",
        "\n",
        "import pandas as pd\n",
        "import numpy as np\n",
        "import seaborn as sns\n",
        "import matplotlib.pyplot as plt\n",
        "\n",
        "import nltk\n",
        "from nltk.corpus import stopwords,wordnet\n",
        "from nltk.stem import WordNetLemmatizer\n",
        "from nltk.tokenize import word_tokenize\n",
        "from nltk import pos_tag\n",
        "\n",
        "from gensim.models import Word2Vec\n",
        "from gensim.models import KeyedVectors\n",
        "\n",
        "from sklearn.datasets import fetch_20newsgroups\n",
        "from sklearn.metrics.pairwise import cosine_similarity\n",
        "from sklearn.cluster import KMeans\n",
        "from sklearn.metrics import accuracy_score, classification_report\n",
        "\n",
        "\n",
        "from tensorflow.keras import layers\n",
        "from tensorflow.keras.models import Sequential\n",
        "from tensorflow.keras.preprocessing.text import Tokenizer\n",
        "from tensorflow.keras.preprocessing.sequence import pad_sequences\n",
        "\n",
        "# download tar file from the  location of dataset\n",
        "# Loading Required Libraries\n",
        "from sklearn.datasets import fetch_20newsgroups"
      ]
    },
    {
      "cell_type": "code",
      "execution_count": 2,
      "metadata": {
        "colab": {
          "base_uri": "https://localhost:8080/"
        },
        "id": "ynqXXL5DR5v5",
        "outputId": "17b97652-fa6e-48e3-9123-b02bcad3ce24"
      },
      "outputs": [
        {
          "output_type": "stream",
          "name": "stderr",
          "text": [
            "[nltk_data] Downloading package stopwords to /root/nltk_data...\n",
            "[nltk_data]   Unzipping corpora/stopwords.zip.\n",
            "[nltk_data] Downloading package punkt to /root/nltk_data...\n",
            "[nltk_data]   Unzipping tokenizers/punkt.zip.\n",
            "[nltk_data] Downloading package wordnet to /root/nltk_data...\n",
            "[nltk_data] Downloading package omw-1.4 to /root/nltk_data...\n",
            "[nltk_data] Downloading package averaged_perceptron_tagger to\n",
            "[nltk_data]     /root/nltk_data...\n",
            "[nltk_data]   Unzipping taggers/averaged_perceptron_tagger.zip.\n"
          ]
        },
        {
          "output_type": "execute_result",
          "data": {
            "text/plain": [
              "True"
            ]
          },
          "metadata": {},
          "execution_count": 2
        }
      ],
      "source": [
        "nltk.download('stopwords')\n",
        "nltk.download('punkt')\n",
        "nltk.download('wordnet')\n",
        "nltk.download('omw-1.4')\n",
        "nltk.download('averaged_perceptron_tagger')"
      ]
    },
    {
      "cell_type": "markdown",
      "metadata": {
        "id": "mCF6aGAc2LKx"
      },
      "source": [
        "**1. Part 1: Text Pre-processing and Embedding Comparison (20 Points)**\n",
        "\n",
        "\n",
        "*   Preprocessing steps correctly implemented and explained\n",
        "*   Comparison of word2vec, GloVe, and OpenAI embeddings\n",
        "*   Discussion on the embeddings that provide better semantic understanding"
      ]
    },
    {
      "cell_type": "markdown",
      "metadata": {
        "id": "Jrs_Y_cV2qop"
      },
      "source": [
        "**Load Data**"
      ]
    },
    {
      "cell_type": "code",
      "execution_count": 3,
      "metadata": {
        "id": "KpntHZ89TPWY"
      },
      "outputs": [],
      "source": [
        "categories = ['alt.atheism', 'talk.religion.misc']\n",
        "#, 'comp.graphics', 'sci.space'\n",
        "\n",
        "data = []  # List to store the document texts\n",
        "labels = []  # List to store the corresponding labels\n",
        "\n",
        "d_train = fetch_20newsgroups(subset='train', remove = ('headers', 'footers', 'quotes'), categories=categories)\n",
        "d_test = fetch_20newsgroups(subset='test', remove = ('headers', 'footers', 'quotes'), categories=categories)\n"
      ]
    },
    {
      "cell_type": "code",
      "execution_count": 4,
      "metadata": {
        "colab": {
          "base_uri": "https://localhost:8080/",
          "height": 140
        },
        "id": "1wrQX6VrTXl5",
        "outputId": "4bd4e5b8-3f4e-42f4-eac1-61863ebaaa51"
      },
      "outputs": [
        {
          "output_type": "execute_result",
          "data": {
            "text/plain": [
              "'From: mangoe@cs.umd.edu (Charley Wingate)\\nSubject: Benediktine Metaphysics\\nLines: 24\\n\\nBenedikt Rosenau writes, with great authority:\\n\\n>     IF IT IS CONTRADICTORY IT CANNOT EXIST.\\n\\n\"Contradictory\" is a property of language.  If I correct this to\\n\\n\\n      THINGS DEFINED BY CONTRADICTORY LANGUAGE DO NOT EXIST\\n\\nI will object to definitions as reality.  If you then amend it to\\n\\n      THINGS DESCRIBED BY CONTRADICTORY LANGUAGE DO NOT EXIST\\n\\nthen we\\'ve come to something which is plainly false.  Failures in\\ndescription are merely failures in description.\\n\\n(I\\'m not an objectivist, remember.)\\n\\n\\n-- \\nC. Wingate        + \"The peace of God, it is no peace,\\n                  +    but strife closed in the sod.\\nmangoe@cs.umd.edu +  Yet, brothers, pray for but one thing:\\ntove!mangoe       +    the marv\\'lous peace of God.\"\\n'"
            ],
            "application/vnd.google.colaboratory.intrinsic+json": {
              "type": "string"
            }
          },
          "metadata": {},
          "execution_count": 4
        }
      ],
      "source": [
        "newsgroup_train = fetch_20newsgroups(\n",
        "    subset=\"train\",\n",
        "     categories=categories,\n",
        "    shuffle=True,\n",
        "    random_state=42,\n",
        ")\n",
        "\n",
        "newsgroup_test = fetch_20newsgroups(\n",
        "    subset=\"test\",\n",
        "    categories=categories,\n",
        "    shuffle=True,\n",
        "    random_state=42,\n",
        ")\n",
        "\n",
        "#Create a dataframe of article and corresponding label\n",
        "df_train = pd.DataFrame({'article': newsgroup_train.data, 'label': newsgroup_train.target})\n",
        "df_train['article'][0]"
      ]
    },
    {
      "cell_type": "markdown",
      "metadata": {
        "id": "AbLLLsCA6yC3"
      },
      "source": [
        "**Remove Metadata,Header ,Footer, quotes**\n",
        "\n",
        "Articles often contain non-relevant information such as headers, footers, metadata and quotes. By removing these elements, noise is reduced and we can focus on the core content of the articles, making it easier to analyze and extract meaningful information.Since most of the information in header footer is repetitive and it will increase the accuracy score of model by doing overfitting but model generated would be low at prediction.\n",
        "\n",
        "Let's remove this information of header, footer and quotes before we proceed for preprocessing of main content"
      ]
    },
    {
      "cell_type": "code",
      "execution_count": 5,
      "metadata": {
        "colab": {
          "base_uri": "https://localhost:8080/"
        },
        "id": "i-wS0LGnVDO5",
        "outputId": "ce51dd1f-9ef7-46fb-c0f4-7f6ce20a0b57"
      },
      "outputs": [
        {
          "output_type": "stream",
          "name": "stdout",
          "text": [
            "['alt.atheism', 'comp.graphics', 'comp.os.ms-windows.misc', 'comp.sys.ibm.pc.hardware', 'comp.sys.mac.hardware', 'comp.windows.x', 'misc.forsale', 'rec.autos', 'rec.motorcycles', 'rec.sport.baseball', 'rec.sport.hockey', 'sci.crypt', 'sci.electronics', 'sci.med', 'sci.space', 'soc.religion.christian', 'talk.politics.guns', 'talk.politics.mideast', 'talk.politics.misc', 'talk.religion.misc']\n",
            "[7 4 4 ... 3 1 8]\n"
          ]
        }
      ],
      "source": [
        "# Load the News20group dataset\n",
        "\n",
        "newsgroup_train = fetch_20newsgroups(\n",
        "    subset=\"train\",\n",
        "#     categories=categories,\n",
        "    shuffle=True,\n",
        "    random_state=42,\n",
        "    remove=(\"headers\", \"footers\", \"quotes\"),\n",
        ")\n",
        "\n",
        "newsgroup_test = fetch_20newsgroups(\n",
        "    subset=\"test\",\n",
        "#     categories=categories,\n",
        "    shuffle=True,\n",
        "    random_state=42,\n",
        "    remove=(\"headers\", \"footers\", \"quotes\"),\n",
        ")\n",
        "\n",
        "#verify the names of different newsgroups in the downloaded training data\n",
        "print(newsgroup_train.target_names)\n",
        "print(newsgroup_train.target)"
      ]
    },
    {
      "cell_type": "code",
      "execution_count": 6,
      "metadata": {
        "colab": {
          "base_uri": "https://localhost:8080/",
          "height": 206
        },
        "id": "Ok1iNtQeV-fZ",
        "outputId": "66297540-026f-4780-b209-b735024f58fb"
      },
      "outputs": [
        {
          "output_type": "execute_result",
          "data": {
            "text/plain": [
              "                                             article  label\n",
              "0  I was wondering if anyone out there could enli...      7\n",
              "1  A fair number of brave souls who upgraded thei...      4\n",
              "2  well folks, my mac plus finally gave up the gh...      4\n",
              "3  \\nDo you have Weitek's address/phone number?  ...      1\n",
              "4  From article <C5owCB.n3p@world.std.com>, by to...     14"
            ],
            "text/html": [
              "\n",
              "  <div id=\"df-c7b5344e-7734-44ae-aee7-9abbb76c2bb7\">\n",
              "    <div class=\"colab-df-container\">\n",
              "      <div>\n",
              "<style scoped>\n",
              "    .dataframe tbody tr th:only-of-type {\n",
              "        vertical-align: middle;\n",
              "    }\n",
              "\n",
              "    .dataframe tbody tr th {\n",
              "        vertical-align: top;\n",
              "    }\n",
              "\n",
              "    .dataframe thead th {\n",
              "        text-align: right;\n",
              "    }\n",
              "</style>\n",
              "<table border=\"1\" class=\"dataframe\">\n",
              "  <thead>\n",
              "    <tr style=\"text-align: right;\">\n",
              "      <th></th>\n",
              "      <th>article</th>\n",
              "      <th>label</th>\n",
              "    </tr>\n",
              "  </thead>\n",
              "  <tbody>\n",
              "    <tr>\n",
              "      <th>0</th>\n",
              "      <td>I was wondering if anyone out there could enli...</td>\n",
              "      <td>7</td>\n",
              "    </tr>\n",
              "    <tr>\n",
              "      <th>1</th>\n",
              "      <td>A fair number of brave souls who upgraded thei...</td>\n",
              "      <td>4</td>\n",
              "    </tr>\n",
              "    <tr>\n",
              "      <th>2</th>\n",
              "      <td>well folks, my mac plus finally gave up the gh...</td>\n",
              "      <td>4</td>\n",
              "    </tr>\n",
              "    <tr>\n",
              "      <th>3</th>\n",
              "      <td>\\nDo you have Weitek's address/phone number?  ...</td>\n",
              "      <td>1</td>\n",
              "    </tr>\n",
              "    <tr>\n",
              "      <th>4</th>\n",
              "      <td>From article &lt;C5owCB.n3p@world.std.com&gt;, by to...</td>\n",
              "      <td>14</td>\n",
              "    </tr>\n",
              "  </tbody>\n",
              "</table>\n",
              "</div>\n",
              "      <button class=\"colab-df-convert\" onclick=\"convertToInteractive('df-c7b5344e-7734-44ae-aee7-9abbb76c2bb7')\"\n",
              "              title=\"Convert this dataframe to an interactive table.\"\n",
              "              style=\"display:none;\">\n",
              "        \n",
              "  <svg xmlns=\"http://www.w3.org/2000/svg\" height=\"24px\"viewBox=\"0 0 24 24\"\n",
              "       width=\"24px\">\n",
              "    <path d=\"M0 0h24v24H0V0z\" fill=\"none\"/>\n",
              "    <path d=\"M18.56 5.44l.94 2.06.94-2.06 2.06-.94-2.06-.94-.94-2.06-.94 2.06-2.06.94zm-11 1L8.5 8.5l.94-2.06 2.06-.94-2.06-.94L8.5 2.5l-.94 2.06-2.06.94zm10 10l.94 2.06.94-2.06 2.06-.94-2.06-.94-.94-2.06-.94 2.06-2.06.94z\"/><path d=\"M17.41 7.96l-1.37-1.37c-.4-.4-.92-.59-1.43-.59-.52 0-1.04.2-1.43.59L10.3 9.45l-7.72 7.72c-.78.78-.78 2.05 0 2.83L4 21.41c.39.39.9.59 1.41.59.51 0 1.02-.2 1.41-.59l7.78-7.78 2.81-2.81c.8-.78.8-2.07 0-2.86zM5.41 20L4 18.59l7.72-7.72 1.47 1.35L5.41 20z\"/>\n",
              "  </svg>\n",
              "      </button>\n",
              "      \n",
              "  <style>\n",
              "    .colab-df-container {\n",
              "      display:flex;\n",
              "      flex-wrap:wrap;\n",
              "      gap: 12px;\n",
              "    }\n",
              "\n",
              "    .colab-df-convert {\n",
              "      background-color: #E8F0FE;\n",
              "      border: none;\n",
              "      border-radius: 50%;\n",
              "      cursor: pointer;\n",
              "      display: none;\n",
              "      fill: #1967D2;\n",
              "      height: 32px;\n",
              "      padding: 0 0 0 0;\n",
              "      width: 32px;\n",
              "    }\n",
              "\n",
              "    .colab-df-convert:hover {\n",
              "      background-color: #E2EBFA;\n",
              "      box-shadow: 0px 1px 2px rgba(60, 64, 67, 0.3), 0px 1px 3px 1px rgba(60, 64, 67, 0.15);\n",
              "      fill: #174EA6;\n",
              "    }\n",
              "\n",
              "    [theme=dark] .colab-df-convert {\n",
              "      background-color: #3B4455;\n",
              "      fill: #D2E3FC;\n",
              "    }\n",
              "\n",
              "    [theme=dark] .colab-df-convert:hover {\n",
              "      background-color: #434B5C;\n",
              "      box-shadow: 0px 1px 3px 1px rgba(0, 0, 0, 0.15);\n",
              "      filter: drop-shadow(0px 1px 2px rgba(0, 0, 0, 0.3));\n",
              "      fill: #FFFFFF;\n",
              "    }\n",
              "  </style>\n",
              "\n",
              "      <script>\n",
              "        const buttonEl =\n",
              "          document.querySelector('#df-c7b5344e-7734-44ae-aee7-9abbb76c2bb7 button.colab-df-convert');\n",
              "        buttonEl.style.display =\n",
              "          google.colab.kernel.accessAllowed ? 'block' : 'none';\n",
              "\n",
              "        async function convertToInteractive(key) {\n",
              "          const element = document.querySelector('#df-c7b5344e-7734-44ae-aee7-9abbb76c2bb7');\n",
              "          const dataTable =\n",
              "            await google.colab.kernel.invokeFunction('convertToInteractive',\n",
              "                                                     [key], {});\n",
              "          if (!dataTable) return;\n",
              "\n",
              "          const docLinkHtml = 'Like what you see? Visit the ' +\n",
              "            '<a target=\"_blank\" href=https://colab.research.google.com/notebooks/data_table.ipynb>data table notebook</a>'\n",
              "            + ' to learn more about interactive tables.';\n",
              "          element.innerHTML = '';\n",
              "          dataTable['output_type'] = 'display_data';\n",
              "          await google.colab.output.renderOutput(dataTable, element);\n",
              "          const docLink = document.createElement('div');\n",
              "          docLink.innerHTML = docLinkHtml;\n",
              "          element.appendChild(docLink);\n",
              "        }\n",
              "      </script>\n",
              "    </div>\n",
              "  </div>\n",
              "  "
            ]
          },
          "metadata": {},
          "execution_count": 6
        }
      ],
      "source": [
        "df_train = pd.DataFrame({'article': newsgroup_train.data, 'label': newsgroup_train.target})\n",
        "df_train.head()"
      ]
    },
    {
      "cell_type": "code",
      "execution_count": 7,
      "metadata": {
        "colab": {
          "base_uri": "https://localhost:8080/",
          "height": 206
        },
        "id": "mnj0hdJpWJjp",
        "outputId": "cf9456d9-ada6-44e7-97d8-e2cff4d977a7"
      },
      "outputs": [
        {
          "output_type": "execute_result",
          "data": {
            "text/plain": [
              "                                             article  label\n",
              "0  I am a little confused on all of the models of...      7\n",
              "1  I'm not familiar at all with the format of the...      5\n",
              "2                                \\nIn a word, yes.\\n      0\n",
              "3  \\nThey were attacking the Iraqis to drive them...     17\n",
              "4  \\nI've just spent two solid months arguing tha...     19"
            ],
            "text/html": [
              "\n",
              "  <div id=\"df-061a7373-cb6b-4f6e-837c-6a1e67935bb2\">\n",
              "    <div class=\"colab-df-container\">\n",
              "      <div>\n",
              "<style scoped>\n",
              "    .dataframe tbody tr th:only-of-type {\n",
              "        vertical-align: middle;\n",
              "    }\n",
              "\n",
              "    .dataframe tbody tr th {\n",
              "        vertical-align: top;\n",
              "    }\n",
              "\n",
              "    .dataframe thead th {\n",
              "        text-align: right;\n",
              "    }\n",
              "</style>\n",
              "<table border=\"1\" class=\"dataframe\">\n",
              "  <thead>\n",
              "    <tr style=\"text-align: right;\">\n",
              "      <th></th>\n",
              "      <th>article</th>\n",
              "      <th>label</th>\n",
              "    </tr>\n",
              "  </thead>\n",
              "  <tbody>\n",
              "    <tr>\n",
              "      <th>0</th>\n",
              "      <td>I am a little confused on all of the models of...</td>\n",
              "      <td>7</td>\n",
              "    </tr>\n",
              "    <tr>\n",
              "      <th>1</th>\n",
              "      <td>I'm not familiar at all with the format of the...</td>\n",
              "      <td>5</td>\n",
              "    </tr>\n",
              "    <tr>\n",
              "      <th>2</th>\n",
              "      <td>\\nIn a word, yes.\\n</td>\n",
              "      <td>0</td>\n",
              "    </tr>\n",
              "    <tr>\n",
              "      <th>3</th>\n",
              "      <td>\\nThey were attacking the Iraqis to drive them...</td>\n",
              "      <td>17</td>\n",
              "    </tr>\n",
              "    <tr>\n",
              "      <th>4</th>\n",
              "      <td>\\nI've just spent two solid months arguing tha...</td>\n",
              "      <td>19</td>\n",
              "    </tr>\n",
              "  </tbody>\n",
              "</table>\n",
              "</div>\n",
              "      <button class=\"colab-df-convert\" onclick=\"convertToInteractive('df-061a7373-cb6b-4f6e-837c-6a1e67935bb2')\"\n",
              "              title=\"Convert this dataframe to an interactive table.\"\n",
              "              style=\"display:none;\">\n",
              "        \n",
              "  <svg xmlns=\"http://www.w3.org/2000/svg\" height=\"24px\"viewBox=\"0 0 24 24\"\n",
              "       width=\"24px\">\n",
              "    <path d=\"M0 0h24v24H0V0z\" fill=\"none\"/>\n",
              "    <path d=\"M18.56 5.44l.94 2.06.94-2.06 2.06-.94-2.06-.94-.94-2.06-.94 2.06-2.06.94zm-11 1L8.5 8.5l.94-2.06 2.06-.94-2.06-.94L8.5 2.5l-.94 2.06-2.06.94zm10 10l.94 2.06.94-2.06 2.06-.94-2.06-.94-.94-2.06-.94 2.06-2.06.94z\"/><path d=\"M17.41 7.96l-1.37-1.37c-.4-.4-.92-.59-1.43-.59-.52 0-1.04.2-1.43.59L10.3 9.45l-7.72 7.72c-.78.78-.78 2.05 0 2.83L4 21.41c.39.39.9.59 1.41.59.51 0 1.02-.2 1.41-.59l7.78-7.78 2.81-2.81c.8-.78.8-2.07 0-2.86zM5.41 20L4 18.59l7.72-7.72 1.47 1.35L5.41 20z\"/>\n",
              "  </svg>\n",
              "      </button>\n",
              "      \n",
              "  <style>\n",
              "    .colab-df-container {\n",
              "      display:flex;\n",
              "      flex-wrap:wrap;\n",
              "      gap: 12px;\n",
              "    }\n",
              "\n",
              "    .colab-df-convert {\n",
              "      background-color: #E8F0FE;\n",
              "      border: none;\n",
              "      border-radius: 50%;\n",
              "      cursor: pointer;\n",
              "      display: none;\n",
              "      fill: #1967D2;\n",
              "      height: 32px;\n",
              "      padding: 0 0 0 0;\n",
              "      width: 32px;\n",
              "    }\n",
              "\n",
              "    .colab-df-convert:hover {\n",
              "      background-color: #E2EBFA;\n",
              "      box-shadow: 0px 1px 2px rgba(60, 64, 67, 0.3), 0px 1px 3px 1px rgba(60, 64, 67, 0.15);\n",
              "      fill: #174EA6;\n",
              "    }\n",
              "\n",
              "    [theme=dark] .colab-df-convert {\n",
              "      background-color: #3B4455;\n",
              "      fill: #D2E3FC;\n",
              "    }\n",
              "\n",
              "    [theme=dark] .colab-df-convert:hover {\n",
              "      background-color: #434B5C;\n",
              "      box-shadow: 0px 1px 3px 1px rgba(0, 0, 0, 0.15);\n",
              "      filter: drop-shadow(0px 1px 2px rgba(0, 0, 0, 0.3));\n",
              "      fill: #FFFFFF;\n",
              "    }\n",
              "  </style>\n",
              "\n",
              "      <script>\n",
              "        const buttonEl =\n",
              "          document.querySelector('#df-061a7373-cb6b-4f6e-837c-6a1e67935bb2 button.colab-df-convert');\n",
              "        buttonEl.style.display =\n",
              "          google.colab.kernel.accessAllowed ? 'block' : 'none';\n",
              "\n",
              "        async function convertToInteractive(key) {\n",
              "          const element = document.querySelector('#df-061a7373-cb6b-4f6e-837c-6a1e67935bb2');\n",
              "          const dataTable =\n",
              "            await google.colab.kernel.invokeFunction('convertToInteractive',\n",
              "                                                     [key], {});\n",
              "          if (!dataTable) return;\n",
              "\n",
              "          const docLinkHtml = 'Like what you see? Visit the ' +\n",
              "            '<a target=\"_blank\" href=https://colab.research.google.com/notebooks/data_table.ipynb>data table notebook</a>'\n",
              "            + ' to learn more about interactive tables.';\n",
              "          element.innerHTML = '';\n",
              "          dataTable['output_type'] = 'display_data';\n",
              "          await google.colab.output.renderOutput(dataTable, element);\n",
              "          const docLink = document.createElement('div');\n",
              "          docLink.innerHTML = docLinkHtml;\n",
              "          element.appendChild(docLink);\n",
              "        }\n",
              "      </script>\n",
              "    </div>\n",
              "  </div>\n",
              "  "
            ]
          },
          "metadata": {},
          "execution_count": 7
        }
      ],
      "source": [
        "df_test = pd.DataFrame({'article': newsgroup_test.data, 'label': newsgroup_test.target})\n",
        "df_test.head()"
      ]
    },
    {
      "cell_type": "code",
      "execution_count": 8,
      "metadata": {
        "colab": {
          "base_uri": "https://localhost:8080/",
          "height": 88
        },
        "id": "yMjDHtjiWOBu",
        "outputId": "f8aea40d-d59a-4bca-d61f-6352000f9ce3"
      },
      "outputs": [
        {
          "output_type": "execute_result",
          "data": {
            "text/plain": [
              "'I was wondering if anyone out there could enlighten me on this car I saw\\nthe other day. It was a 2-door sports car, looked to be from the late 60s/\\nearly 70s. It was called a Bricklin. The doors were really small. In addition,\\nthe front bumper was separate from the rest of the body. This is \\nall I know. If anyone can tellme a model name, engine specs, years\\nof production, where this car is made, history, or whatever info you\\nhave on this funky looking car, please e-mail.'"
            ],
            "application/vnd.google.colaboratory.intrinsic+json": {
              "type": "string"
            }
          },
          "metadata": {},
          "execution_count": 8
        }
      ],
      "source": [
        "# Let's explore any article in train data\n",
        "# Access the first article value\n",
        "df_train['article'][0]"
      ]
    },
    {
      "cell_type": "markdown",
      "metadata": {
        "id": "wrIvvzsG_IDj"
      },
      "source": [
        "**Clean Function**\n",
        "\n",
        "The clean_text function performs a series of text cleaning and preprocessing steps. Here's a breakdown of what each step does:\n",
        "*   Remove Pre and Post Spaces: Strips any leading or trailing spaces from the text.\n",
        "*   Lowercase the entire text: Converts the text to lowercase, ensuring consistent case throughout the text.\n",
        "*   Substitute New Line Characters with Spaces: Replaces newline characters ('\\n') with a space, effectively removing line breaks.\n",
        "*   Tokenize the sentence: Breaks the text into individual words or tokens using a tokenization technique, likely using the word_tokenize function from the NLTK library.\n",
        "\n",
        "Remove punctuation and special characters from each individual word:\n",
        "*   Iterates over each word in the tokenized text and removes any non-alphanumeric characters, such as punctuation marks or special characters. Only alphanumeric characters are retained.\n",
        "\n",
        "Remove stopwords and words containing fewer than 2 characters:\n",
        "\n",
        "*   Removes common stopwords, such as \"the,\" \"is,\" or \"and,\" from the text. Additionally, words with a length of less than 2 characters are filtered out.\n",
        "*   WordNetLemmatizer() needs the wordnet tags (wordnet.ADJ, wordnet.VERB, wordnet.NOUN, wordnet.ADV) for each word to perform the lemmatization. We can use nltk.pos_tag() to generate the tag for each token and then write a wrapper function to convert the nltk tags into wordnet tags i.e., get_wordnet_pos (tag)\n",
        "*  We have also defined a function to lemmatize each word in a tokenized text data and then return all the lemmatized tokens combined into a string:\n"
      ]
    },
    {
      "cell_type": "code",
      "execution_count": 9,
      "metadata": {
        "id": "wEUNxTU9WYJx"
      },
      "outputs": [],
      "source": [
        "def get_wordnet_pos (tag):\n",
        "    if tag.startswith('J'):\n",
        "        return wordnet.ADJ\n",
        "    elif tag.startswith('V'):\n",
        "        return wordnet.VERB\n",
        "    elif tag.startswith('N'):\n",
        "        return wordnet.NOUN\n",
        "    elif tag.startswith('R'):\n",
        "        return wordnet.ADV\n",
        "    else:\n",
        "        return wordnet.NOUN\n",
        "\n",
        "def lemmatize (word_list):\n",
        "    wl = WordNetLemmatizer()\n",
        "    word_pos_tags = pos_tag(word_list)\n",
        "    lemmatized_list = []\n",
        "    for tag in word_pos_tags:\n",
        "        lemmatize_word = wl.lemmatize(tag[0],get_wordnet_pos(tag[1]))\n",
        "        lemmatized_list.append(lemmatize_word)\n",
        "    return \" \".join(lemmatized_list)\n",
        "\n",
        "def clean_text (text):\n",
        "    # Remove Pre and Post Spaces\n",
        "    text = str(text).strip()\n",
        "\n",
        "    # Lower case the entire text\n",
        "    text = str(text).lower()\n",
        "\n",
        "    # Substitute New Line Characters with spaces\n",
        "    text = re.sub(r\"\\n\", r\" \", text)\n",
        "\n",
        "    # Tokenize the sentence\n",
        "    word_tokens = word_tokenize(text)\n",
        "\n",
        "    # Remove the punctuation and  special characters from each individual word\n",
        "    cleaned_text = []\n",
        "    for word in word_tokens:\n",
        "        cleaned_text.append(\"\".join([char for char in word if char.isalnum()]))\n",
        "\n",
        "    # Specify the stop words list\n",
        "    stop_words = stopwords.words('english')\n",
        "\n",
        "    # Remove the stopwords and words containing less then 2 characters\n",
        "    text_tokens = [word for word in cleaned_text if (len(word) > 2) and (word not in stop_words)]\n",
        "\n",
        "    #Lemmatize each word in the word list\n",
        "    text = lemmatize (text_tokens)\n",
        "\n",
        "    return text"
      ]
    },
    {
      "cell_type": "code",
      "execution_count": 10,
      "metadata": {
        "id": "RzwALdWFXypf"
      },
      "outputs": [],
      "source": [
        "### Apply cleanup to both train and test data articles\n",
        "df_train['article'] = df_train['article'].apply(lambda x: clean_text(x))\n",
        "df_test['article'] = df_test['article'].apply(lambda x: clean_text(x))"
      ]
    },
    {
      "cell_type": "code",
      "execution_count": 12,
      "metadata": {
        "colab": {
          "base_uri": "https://localhost:8080/",
          "height": 53
        },
        "id": "EhOlXgAvYAYW",
        "outputId": "dae6a3e8-fb73-49f5-eed7-3584883b4a1d"
      },
      "outputs": [
        {
          "output_type": "execute_result",
          "data": {
            "text/plain": [
              "'wonder anyone could enlighten car saw day 2door sport car look late 60 early 70 call bricklin door really small addition front bumper separate rest body know anyone tellme model name engine spec year production car make history whatever info funky look car please email'"
            ],
            "application/vnd.google.colaboratory.intrinsic+json": {
              "type": "string"
            }
          },
          "metadata": {},
          "execution_count": 12
        }
      ],
      "source": [
        "df_train['article'][0]"
      ]
    },
    {
      "cell_type": "markdown",
      "metadata": {
        "id": "ol9HTVVjAg87"
      },
      "source": [
        "**EDA - Preprocessed Data**\n",
        "\n",
        "Since the cleaning has stripped off unnecessary words from the raw text, let's calculate the word distribution on this cleaned dataset:"
      ]
    },
    {
      "cell_type": "code",
      "execution_count": 13,
      "metadata": {
        "colab": {
          "base_uri": "https://localhost:8080/",
          "height": 718
        },
        "id": "m37TNlOBZoAN",
        "outputId": "b6474fbd-410e-4dac-c1ab-a0f1db044a57"
      },
      "outputs": [
        {
          "output_type": "display_data",
          "data": {
            "text/plain": [
              "<Figure size 1000x800 with 1 Axes>"
            ],
            "image/png": "[encoded data removed]"
          },
          "metadata": {}
        }
      ],
      "source": [
        "df_train['word_count'] = df_train['article'].apply(lambda x: len(str(x).split()))\n",
        "plt.figure(figsize=(10,8))\n",
        "sns.histplot(data=df_train, x='word_count')\n",
        "plt.title('Word Count of Articles in Train Data after data cleaning')\n",
        "plt.xlabel('Word Count')\n",
        "plt.ylabel('Article Count')\n",
        "plt.show()"
      ]
    },
    {
      "cell_type": "code",
      "execution_count": 14,
      "metadata": {
        "colab": {
          "base_uri": "https://localhost:8080/"
        },
        "id": "qJy33rsyZr1t",
        "outputId": "381e0be5-2911-41e4-bf30-e228b42c51c9"
      },
      "outputs": [
        {
          "output_type": "stream",
          "name": "stdout",
          "text": [
            "Percentage of Training Articles having less than 400 Words:96.83%\n"
          ]
        }
      ],
      "source": [
        "#Referring plot we estimate most of the articles have less than 300 words\n",
        "train_articles = (sum(df_train['word_count'] < 400)/df_train.shape[0])*100\n",
        "print('Percentage of Training Articles having less than 400 Words:{:.2f}%'.format(train_articles))"
      ]
    },
    {
      "cell_type": "code",
      "execution_count": 15,
      "metadata": {
        "colab": {
          "base_uri": "https://localhost:8080/",
          "height": 718
        },
        "id": "1qp9um4-ZxuE",
        "outputId": "42ed6d9e-c3b1-480e-b777-09256c7fcbee"
      },
      "outputs": [
        {
          "output_type": "display_data",
          "data": {
            "text/plain": [
              "<Figure size 1000x800 with 1 Axes>"
            ],
            "image/png": "[encoded data removed]"
          },
          "metadata": {}
        }
      ],
      "source": [
        "df_test['word_count'] = df_test['article'].apply(lambda x: len(str(x).split()))\n",
        "plt.figure(figsize=(10,8))\n",
        "sns.histplot(data=df_test, x='word_count')\n",
        "plt.title('Word Count of Articles in Test Data after data cleaning')\n",
        "plt.xlabel('Word Count')\n",
        "plt.ylabel('Article Count')\n",
        "plt.show()"
      ]
    },
    {
      "cell_type": "code",
      "execution_count": 16,
      "metadata": {
        "colab": {
          "base_uri": "https://localhost:8080/"
        },
        "id": "5E2zVDm_Z-Ts",
        "outputId": "904b1bae-4a28-40d6-f5bc-f191e3b327b2"
      },
      "outputs": [
        {
          "output_type": "stream",
          "name": "stdout",
          "text": [
            "Percentage of Test Articles having less than 400 Words:97.15%\n"
          ]
        }
      ],
      "source": [
        "test_articles = (sum(df_test['word_count'] < 400)/df_test.shape[0])*100\n",
        "print('Percentage of Test Articles having less than 400 Words:{:.2f}%'.format(test_articles))"
      ]
    },
    {
      "cell_type": "code",
      "execution_count": 12,
      "metadata": {
        "id": "aPCuywJzaDcl"
      },
      "outputs": [],
      "source": [
        "X_train = df_train['article']\n",
        "y_train = df_train['label']\n",
        "X_test = df_test['article']\n",
        "y_test = df_test['label']"
      ]
    },
    {
      "cell_type": "markdown",
      "metadata": {
        "id": "-HqLf3erCWCB"
      },
      "source": [
        "**Feature Extraction - Different Embeddings and Comparison**\n",
        "\n",
        "Word embedding is the number representation of a text. There may be different numerical representations of the same text and hence different kinds of word embeddings.\n",
        "\n",
        "Many Machine Learning algorithms and almost all Deep Learning Architectures are incapable of processing strings or plain text in their raw form. They require numbers as inputs to perform any sort of job, be it classification, regression etc. in broad terms. And with the huge amount of data that is present in the text format, it is imperative to extract knowledge out of it and build applications.Hence arise the need of word embedding.\n",
        "\n",
        "A Word Embedding format generally tries to map a word using a dictionary to a vector.\n",
        "\n",
        "We will be using prediction based word embeddings which are based on probabilities of words and also perform word analogies and word similarities"
      ]
    },
    {
      "cell_type": "markdown",
      "metadata": {
        "id": "gGWMWcL3CWug"
      },
      "source": [
        "**Word2Vec Embedding**\n",
        "\n",
        "Word2vec embedding is combination of techniques CBOW(Continuous Bag of Words) and Skip - Gram Model.Both of these are shallow neural networks which map word(s) to the target variable which is also a word(s). Both of these techniques learn weights which act as word vector representations.\n",
        "\n",
        "We will be training our own word2vec on a custom corpus. For training the model we will be using gensim and the steps are illustrated as below.\n",
        "\n",
        "word2Vec requires that a format of list of list for training where every document is contained in a list and every list contains list of tokens of that documents."
      ]
    },
    {
      "cell_type": "code",
      "execution_count": 13,
      "metadata": {
        "colab": {
          "base_uri": "https://localhost:8080/"
        },
        "id": "cDOQSXb2aHS3",
        "outputId": "dc678c91-95f4-4133-bcda-9c030686060b"
      },
      "outputs": [
        {
          "output_type": "stream",
          "name": "stdout",
          "text": [
            "Example of a list of words from a sentence: ['wonder', 'anyone', 'could', 'enlighten', 'car', 'saw', 'day', '2door', 'sport', 'car', 'look', 'late', '60', 'early', '70', 'call', 'bricklin', 'door', 'really', 'small', 'addition', 'front', 'bumper', 'separate', 'rest', 'body', 'know', 'anyone', 'tellme', 'model', 'name', 'engine', 'spec', 'year', 'production', 'car', 'make', 'history', 'whatever', 'info', 'funky', 'look', 'car', 'please', 'email']\n"
          ]
        }
      ],
      "source": [
        "#Create a list of sentences, where each sentence is a list of preprocessed words from the dataset.This is also reffered as corpus\n",
        "print(\"Example of a list of words from a sentence:\",X_train[0].split())\n",
        "\n",
        "sentences = X_train.str.split().tolist()"
      ]
    },
    {
      "cell_type": "code",
      "execution_count": 14,
      "metadata": {
        "id": "amJGb62iaVAT"
      },
      "outputs": [],
      "source": [
        "# #Create a list of sentences, where each sentence is a list of preprocessed words from the dataset.This is also reffered as corpus\n",
        "\n",
        "sentences = X_train.str.split().tolist()\n",
        "\n",
        "\n",
        "#Initialize and train the Word2Vec model on the preprocessed corpus.\n",
        "\n",
        "model_word2vec = Word2Vec(sentences, min_count=1, vector_size=300, workers=4)"
      ]
    },
    {
      "cell_type": "code",
      "execution_count": 15,
      "metadata": {
        "colab": {
          "base_uri": "https://localhost:8080/"
        },
        "id": "6Ly81yvsawbQ",
        "outputId": "8ad72b9c-5b97-4ba0-85a2-9e9fa4cb3c0b"
      },
      "outputs": [
        {
          "output_type": "execute_result",
          "data": {
            "text/plain": [
              "[('car', 1.0),\n",
              " ('bike', 0.9779655933380127),\n",
              " ('ridden', 0.9580094814300537),\n",
              " ('tire', 0.9537659883499146),\n",
              " ('around', 0.944083571434021),\n",
              " ('big', 0.9401063323020935),\n",
              " ('pivot', 0.9399263858795166),\n",
              " ('spaghetti', 0.9373284578323364),\n",
              " ('buy', 0.9364936351776123),\n",
              " ('shelf', 0.9331061244010925)]"
            ]
          },
          "metadata": {},
          "execution_count": 15
        }
      ],
      "source": [
        "#explore model\n",
        "#use the trained Word2Vec model to compute word similarities or perform analogy tasks.\n",
        "\n",
        "\n",
        "word_vector = model_word2vec.wv['car']\n",
        "similar_words_word2vec = model_word2vec.wv.most_similar(word_vector)\n",
        "\n",
        "similar_words_word2vec"
      ]
    },
    {
      "cell_type": "markdown",
      "metadata": {
        "id": "W5mZ-wH_CyVZ"
      },
      "source": [
        "**Glove Embedding**\n",
        "\n",
        "The GloVe algorithm aims to learn word embeddings by considering the global word co-occurrence statistics from a corpus.\n",
        "\n",
        "Both Word2Vec and GloVe embeddings provide dense vector representations for words, capturing semantic relationships. However, the training processes and underlying methodologies differ. Word2Vec employs either the continuous bag-of-words (CBOW) or skip-gram algorithm, while GloVe focuses on word co-occurrence statistics.\n",
        "\n",
        "We will use the Keras tokenizer from the text preprocessing library i.e., keras.preprocessing.text.Tokenizer(). Essentially, the Keras tokenizer processes all the individual tokens in the dataset articles and then assigns an ID to each unique token in the form of a dictionary.\n",
        "\n",
        "During initialization, we need to define num_words which specifies the number of most frequent words to be used in the tokenizer vocabulary:\n",
        "\n",
        "The word embeddings of our dataset can be learned while training a neural network on the classification problem. Before it can be presented to the network, the text data is first encoded so that each word is represented by a unique integer. This data preparation step can be performed using the Tokenizer API provided with Keras. We add padding to make all the vectors of same length (max_length). Below code converts the text to integer indexes, now ready to be used in Keras embedding layer."
      ]
    },
    {
      "cell_type": "code",
      "execution_count": 16,
      "metadata": {
        "id": "AoblWdS3ezc4"
      },
      "outputs": [],
      "source": [
        "tokenizer = Tokenizer(num_words=100000)\n",
        "tokenizer.fit_on_texts(X_train)"
      ]
    },
    {
      "cell_type": "code",
      "execution_count": 17,
      "metadata": {
        "colab": {
          "base_uri": "https://localhost:8080/"
        },
        "id": "ynAT8LBIfYmz",
        "outputId": "b4cd6212-e4a0-4958-a37b-a18975577926"
      },
      "outputs": [
        {
          "output_type": "stream",
          "name": "stdout",
          "text": [
            "Vocab Size: 115662\n"
          ]
        }
      ],
      "source": [
        "#total vocabulary size for our training data:\n",
        "\n",
        "vocab_size = len(tokenizer.index_word) + 1\n",
        "print('Vocab Size:', vocab_size)"
      ]
    },
    {
      "cell_type": "code",
      "execution_count": 18,
      "metadata": {
        "id": "Qva2vYc1ffnH"
      },
      "outputs": [],
      "source": [
        "#convert each article into our training/testing data such that each tokenized word is replaced by its mathematical index as represented in the tokenizer.index_word:\n",
        "\n",
        "X_train_token = tokenizer.texts_to_sequences(X_train)\n",
        "X_test_token = tokenizer.texts_to_sequences(X_test)"
      ]
    },
    {
      "cell_type": "code",
      "execution_count": 19,
      "metadata": {
        "colab": {
          "base_uri": "https://localhost:8080/"
        },
        "id": "taXgFhpsfkdB",
        "outputId": "d2c1b6da-4e17-4a5c-bc2f-ba6f3d1ed0f4"
      },
      "outputs": [
        {
          "output_type": "stream",
          "name": "stdout",
          "text": [
            "wonder anyone could enlighten car saw day 2door sport car look late 60 early 70 call bricklin door really small addition front bumper separate rest body know anyone tellme model name engine spec year production car make history whatever info funky look car please email\n",
            "Total Words: 45\n"
          ]
        }
      ],
      "source": [
        "#explore a sample before and after tokenization\n",
        "print(X_train[0])\n",
        "print(\"Total Words:\", len(str(X_train[0]).split()))"
      ]
    },
    {
      "cell_type": "code",
      "execution_count": 20,
      "metadata": {
        "colab": {
          "base_uri": "https://localhost:8080/"
        },
        "id": "-FDTVFDzfpx6",
        "outputId": "2d07342a-5f8d-4761-baa2-e982e7b93a10"
      },
      "outputs": [
        {
          "output_type": "stream",
          "name": "stdout",
          "text": [
            "[465, 54, 18, 5484, 114, 449, 71, 21093, 1192, 114, 29, 457, 8359, 483, 7174, 44, 26930, 808, 65, 209, 785, 620, 5025, 985, 510, 361, 7, 54, 41371, 299, 94, 605, 1911, 21, 1948, 114, 8, 365, 561, 265, 15167, 29, 114, 59, 84]\n",
            "Text Sequence Length: 45\n"
          ]
        }
      ],
      "source": [
        "print(X_train_token[0])\n",
        "print(\"Text Sequence Length:\", len(X_train_token[0]))"
      ]
    },
    {
      "cell_type": "code",
      "execution_count": 26,
      "metadata": {
        "colab": {
          "base_uri": "https://localhost:8080/"
        },
        "id": "-QibsG02ksfq",
        "outputId": "6d69808b-98bd-4a83-99a1-b211f9259711"
      },
      "outputs": [
        {
          "output_type": "stream",
          "name": "stdout",
          "text": [
            "First Instance Text Sequence:\n",
            "\n",
            "[  465    54    18  5484   114   449    71 21093  1192   114    29   457\n",
            "  8359   483  7174    44 26930   808    65   209   785   620  5025   985\n",
            "   510   361     7    54 41371   299    94   605  1911    21  1948   114\n",
            "     8   365   561   265 15167    29   114    59    84     0     0     0\n",
            "     0     0     0     0     0     0     0     0     0     0     0     0\n",
            "     0     0     0     0     0     0     0     0     0     0     0     0\n",
            "     0     0     0     0     0     0     0     0     0     0     0     0\n",
            "     0     0     0     0     0     0     0     0     0     0     0     0\n",
            "     0     0     0     0     0     0     0     0     0     0     0     0\n",
            "     0     0     0     0     0     0     0     0     0     0     0     0\n",
            "     0     0     0     0     0     0     0     0     0     0     0     0\n",
            "     0     0     0     0     0     0     0     0     0     0     0     0\n",
            "     0     0     0     0     0     0     0     0     0     0     0     0\n",
            "     0     0     0     0     0     0     0     0     0     0     0     0\n",
            "     0     0     0     0     0     0     0     0     0     0     0     0\n",
            "     0     0     0     0     0     0     0     0     0     0     0     0\n",
            "     0     0     0     0     0     0     0     0     0     0     0     0\n",
            "     0     0     0     0     0     0     0     0     0     0     0     0\n",
            "     0     0     0     0     0     0     0     0     0     0     0     0\n",
            "     0     0     0     0     0     0     0     0     0     0     0     0\n",
            "     0     0     0     0     0     0     0     0     0     0     0     0\n",
            "     0     0     0     0     0     0     0     0     0     0     0     0\n",
            "     0     0     0     0     0     0     0     0     0     0     0     0\n",
            "     0     0     0     0     0     0     0     0     0     0     0     0\n",
            "     0     0     0     0     0     0     0     0     0     0     0     0\n",
            "     0     0     0     0     0     0     0     0     0     0     0     0\n",
            "     0     0     0     0     0     0     0     0     0     0     0     0\n",
            "     0     0     0     0     0     0     0     0     0     0     0     0\n",
            "     0     0     0     0     0     0     0     0     0     0     0     0\n",
            "     0     0     0     0     0     0     0     0     0     0     0     0\n",
            "     0     0     0     0     0     0     0     0     0     0     0     0\n",
            "     0     0     0     0     0     0     0     0     0     0     0     0\n",
            "     0     0     0     0     0     0     0     0     0     0     0     0\n",
            "     0     0     0     0]\n",
            "\n",
            "First Instance Text Sequence Length: 400\n"
          ]
        }
      ],
      "source": [
        "# we need to pad or truncate the encoded sequences into fixed-length vectors irrespective of the word length in each article.\n",
        "\n",
        "#we will post-pad these sequences to a maximum length of 400.\n",
        "\n",
        "sequence_len = 400\n",
        "X_train_token = pad_sequences(X_train_token, padding='post', maxlen=sequence_len)\n",
        "X_test_token = pad_sequences(X_test_token, padding='post', maxlen=sequence_len)\n",
        "print(\"First Instance Text Sequence:\\n\")\n",
        "print(X_train_token[0])\n",
        "print(\"\\nFirst Instance Text Sequence Length:\", len(X_train_token[0]))"
      ]
    },
    {
      "cell_type": "code",
      "execution_count": 27,
      "metadata": {
        "colab": {
          "base_uri": "https://localhost:8080/"
        },
        "id": "T_sPLLQhkyYf",
        "outputId": "afcb76ad-b0a1-4899-ddc2-0dbce0a1c190"
      },
      "outputs": [
        {
          "output_type": "stream",
          "name": "stdout",
          "text": [
            "[[0. 0. 0. ... 0. 0. 0.]\n",
            " [0. 0. 0. ... 0. 0. 0.]\n",
            " [0. 0. 0. ... 0. 0. 0.]\n",
            " ...\n",
            " [0. 0. 0. ... 0. 0. 0.]\n",
            " [0. 0. 0. ... 0. 0. 0.]\n",
            " [0. 0. 0. ... 0. 0. 0.]]\n"
          ]
        }
      ],
      "source": [
        "\n",
        "def create_embedding_matrix(filepath, word_index, embedding_dim):\n",
        "    vocab_size = len(word_index) + 1\n",
        "    embedding_matrix = np.zeros((vocab_size, embedding_dim))\n",
        "\n",
        "    with open(filepath, encoding=\"utf-8\") as file:\n",
        "        for line in file:\n",
        "            #print(line)\n",
        "            line = line.strip()  # Remove leading/trailing whitespaces\n",
        "            if line:\n",
        "                parts = line.split()\n",
        "                if len(parts) < embedding_dim + 1:\n",
        "                    continue  # Skip lines that don't have enough values\n",
        "                word = parts[0]\n",
        "                vector = np.array(parts[1:], dtype=np.float32)\n",
        "                if word in word_index:\n",
        "                    idx = word_index[word]\n",
        "                    embedding_matrix[idx] = vector[:embedding_dim]\n",
        "\n",
        "    return embedding_matrix\n",
        "\n",
        "embedding_dim = 100\n",
        "glove_embedding_filepath = \"/content/sample_data/glove.6B.100d.txt\"\n",
        "embedding_matrix = create_embedding_matrix(glove_embedding_filepath, tokenizer.word_index, embedding_dim)\n",
        "print(embedding_matrix)"
      ]
    },
    {
      "cell_type": "markdown",
      "metadata": {
        "id": "d9yBwMcNDNvQ"
      },
      "source": [
        "**BERT Embedding**\n",
        "\n",
        "BERT (Bidirectional Encoder Representations from Transformers) is a transformer-based model introduced by Google in 2018. BERT is designed to generate contextualized word embeddings, which capture the meaning of words based on their surrounding context in a given sentence or text.\n",
        "\n",
        "The BERT model is pretrained on large amounts of text data in an unsupervised manner. During this pretraining phase, BERT learns to predict missing words in sentences by considering the context of the surrounding words. This process allows BERT to capture the semantic relationships between words and produce meaningful representations.\n",
        "\n",
        "BERT embeddings, also known as BERT vectors or BERT representations, are dense, fixed-length numerical representations that encode the contextual meaning of words. These embeddings can be used as input features for various natural language processing (NLP) tasks such as text classification, named entity recognition, sentiment analysis, and question answering.\n",
        "\n",
        "The power of BERT embeddings lies in their ability to capture the nuances of language and the context in which words are used. By using BERT embeddings, NLP models can leverage the pretrained knowledge and context-awareness of BERT to enhance their performance on a wide range of NLP tasks. BERT embeddings have become popular and widely used in the NLP community due to their effectiveness in capturing the semantic information of words and sentences."
      ]
    },
    {
      "cell_type": "code",
      "execution_count": 28,
      "metadata": {
        "colab": {
          "base_uri": "https://localhost:8080/"
        },
        "id": "1nZCK54ZsV2X",
        "outputId": "a791753e-71f2-4dee-d325-d9bae55e41ff"
      },
      "outputs": [
        {
          "output_type": "stream",
          "name": "stdout",
          "text": [
            "Collecting transformers\n",
            "  Downloading transformers-4.30.2-py3-none-any.whl (7.2 MB)\n",
            "\u001b[2K     \u001b[90m━━━━━━━━━━━━━━━━━━━━━━━━━━━━━━━━━━━━━━━━\u001b[0m \u001b[32m7.2/7.2 MB\u001b[0m \u001b[31m44.7 MB/s\u001b[0m eta \u001b[36m0:00:00\u001b[0m\n",
            "\u001b[?25hRequirement already satisfied: filelock in /usr/local/lib/python3.10/dist-packages (from transformers) (3.12.2)\n",
            "Collecting huggingface-hub<1.0,>=0.14.1 (from transformers)\n",
            "  Downloading huggingface_hub-0.15.1-py3-none-any.whl (236 kB)\n",
            "\u001b[2K     \u001b[90m━━━━━━━━━━━━━━━━━━━━━━━━━━━━━━━━━━━━━━\u001b[0m \u001b[32m236.8/236.8 kB\u001b[0m \u001b[31m16.6 MB/s\u001b[0m eta \u001b[36m0:00:00\u001b[0m\n",
            "\u001b[?25hRequirement already satisfied: numpy>=1.17 in /usr/local/lib/python3.10/dist-packages (from transformers) (1.22.4)\n",
            "Requirement already satisfied: packaging>=20.0 in /usr/local/lib/python3.10/dist-packages (from transformers) (23.1)\n",
            "Requirement already satisfied: pyyaml>=5.1 in /usr/local/lib/python3.10/dist-packages (from transformers) (6.0)\n",
            "Requirement already satisfied: regex!=2019.12.17 in /usr/local/lib/python3.10/dist-packages (from transformers) (2022.10.31)\n",
            "Requirement already satisfied: requests in /usr/local/lib/python3.10/dist-packages (from transformers) (2.27.1)\n",
            "Collecting tokenizers!=0.11.3,<0.14,>=0.11.1 (from transformers)\n",
            "  Downloading tokenizers-0.13.3-cp310-cp310-manylinux_2_17_x86_64.manylinux2014_x86_64.whl (7.8 MB)\n",
            "\u001b[2K     \u001b[90m━━━━━━━━━━━━━━━━━━━━━━━━━━━━━━━━━━━━━━━━\u001b[0m \u001b[32m7.8/7.8 MB\u001b[0m \u001b[31m90.9 MB/s\u001b[0m eta \u001b[36m0:00:00\u001b[0m\n",
            "\u001b[?25hCollecting safetensors>=0.3.1 (from transformers)\n",
            "  Downloading safetensors-0.3.1-cp310-cp310-manylinux_2_17_x86_64.manylinux2014_x86_64.whl (1.3 MB)\n",
            "\u001b[2K     \u001b[90m━━━━━━━━━━━━━━━━━━━━━━━━━━━━━━━━━━━━━━━━\u001b[0m \u001b[32m1.3/1.3 MB\u001b[0m \u001b[31m62.8 MB/s\u001b[0m eta \u001b[36m0:00:00\u001b[0m\n",
            "\u001b[?25hRequirement already satisfied: tqdm>=4.27 in /usr/local/lib/python3.10/dist-packages (from transformers) (4.65.0)\n",
            "Requirement already satisfied: fsspec in /usr/local/lib/python3.10/dist-packages (from huggingface-hub<1.0,>=0.14.1->transformers) (2023.6.0)\n",
            "Requirement already satisfied: typing-extensions>=3.7.4.3 in /usr/local/lib/python3.10/dist-packages (from huggingface-hub<1.0,>=0.14.1->transformers) (4.6.3)\n",
            "Requirement already satisfied: urllib3<1.27,>=1.21.1 in /usr/local/lib/python3.10/dist-packages (from requests->transformers) (1.26.16)\n",
            "Requirement already satisfied: certifi>=2017.4.17 in /usr/local/lib/python3.10/dist-packages (from requests->transformers) (2023.5.7)\n",
            "Requirement already satisfied: charset-normalizer~=2.0.0 in /usr/local/lib/python3.10/dist-packages (from requests->transformers) (2.0.12)\n",
            "Requirement already satisfied: idna<4,>=2.5 in /usr/local/lib/python3.10/dist-packages (from requests->transformers) (3.4)\n",
            "Installing collected packages: tokenizers, safetensors, huggingface-hub, transformers\n",
            "Successfully installed huggingface-hub-0.15.1 safetensors-0.3.1 tokenizers-0.13.3 transformers-4.30.2\n"
          ]
        }
      ],
      "source": [
        "!pip install transformers"
      ]
    },
    {
      "cell_type": "code",
      "execution_count": 29,
      "metadata": {
        "colab": {
          "base_uri": "https://localhost:8080/",
          "height": 113,
          "referenced_widgets": [
            "4db5aa67dc6a45cb843139e33dd8406a",
            "4454cfe5c6164d7ea000f85883557eb0",
            "a2b7d5e07bb84d299444a18c59fee6cd",
            "39a65eed86c947d084322055dbe084d5",
            "b3d3a1a9cf8644a0a877e8ca311c99fc",
            "32d082c02bcc477790593a5370b68786",
            "39e9746e35154c33bfeebc4dbddd37dd",
            "c85cb1e2f3d04e9e9ab72b89c49fdd8c",
            "35c393be68074aff8d99f42eed62b1f7",
            "4e1fa043602b40bc884da1cdbb4e5796",
            "d31296f682554d078fd20da5c760c46a",
            "294643fc7aed41b786a31227aa1580e3",
            "6a6518700ca2492f99d7c4eb3611b195",
            "f00592d20c2348e0be1c09fb0c3b1023",
            "20419f2b9bc24b5995e08e12e89f9477",
            "0b6bf42196b84b158a07951c60296631",
            "f37454612aff4b1f819247b358906831",
            "5dc39909b0d34709b74a82a7305fc71e",
            "fb881759b69d458eaa305a838ab1104b",
            "826ca1aa95a44f4ba540b690a7fb59be",
            "5c9c9aae6c444e0dbb9438705e41e203",
            "d3e291d0f16f4af6b1cf12470b07fb84",
            "f2ee25937d0c4346935cea89e380044a",
            "60b3fd7e7a85468e8a1fca6cb005f167",
            "d62abb6a18944db699a69729a4d0c99b",
            "050d1f775d944e2e9f40d497ab26f16f",
            "517b4fdab9d74090a4d563fd7e98d66d",
            "4dc11a47758544b6a06348ad84a9912e",
            "8b96d9c27c1949238665e5a14b408256",
            "35201c6719b34a75bffffc96e8c79788",
            "04c83f01672a4ee5bffa56cdc63dd50b",
            "99125266461647d6837c1e2d228702b4",
            "ddfa049e9a4c42c8b83030ab8d6120b6"
          ]
        },
        "id": "QPXlnWuOk3_2",
        "outputId": "749962a5-cc0b-41b6-e0b6-dc7cb1adf8e5"
      },
      "outputs": [
        {
          "output_type": "display_data",
          "data": {
            "text/plain": [
              "Downloading (…)solve/main/vocab.txt:   0%|          | 0.00/232k [00:00<?, ?B/s]"
            ],
            "application/vnd.jupyter.widget-view+json": {
              "version_major": 2,
              "version_minor": 0,
              "model_id": "4db5aa67dc6a45cb843139e33dd8406a"
            }
          },
          "metadata": {}
        },
        {
          "output_type": "display_data",
          "data": {
            "text/plain": [
              "Downloading (…)okenizer_config.json:   0%|          | 0.00/28.0 [00:00<?, ?B/s]"
            ],
            "application/vnd.jupyter.widget-view+json": {
              "version_major": 2,
              "version_minor": 0,
              "model_id": "294643fc7aed41b786a31227aa1580e3"
            }
          },
          "metadata": {}
        },
        {
          "output_type": "display_data",
          "data": {
            "text/plain": [
              "Downloading (…)lve/main/config.json:   0%|          | 0.00/570 [00:00<?, ?B/s]"
            ],
            "application/vnd.jupyter.widget-view+json": {
              "version_major": 2,
              "version_minor": 0,
              "model_id": "f2ee25937d0c4346935cea89e380044a"
            }
          },
          "metadata": {}
        }
      ],
      "source": [
        "from transformers import BertTokenizer, BertModel,TFBertModel\n",
        "\n",
        "\n",
        "# Load the pre-trained BERT tokenizer\n",
        "tokenizer = BertTokenizer.from_pretrained('bert-base-uncased')\n",
        "\n",
        "# Tokenize and encode the training dataset\n",
        "train_encodings = tokenizer(df_train['article'][:1000].tolist(), truncation=True, padding=True, max_length=128)\n",
        "#print(train_encodings)\n",
        "\n",
        "# Tokenize and encode the test dataset\n",
        "test_encodings = tokenizer(df_test['article'][:1000].tolist(), truncation=True, padding=True, max_length=128)\n",
        "#print(test_encodings)"
      ]
    },
    {
      "cell_type": "code",
      "execution_count": 30,
      "metadata": {
        "colab": {
          "base_uri": "https://localhost:8080/",
          "height": 156,
          "referenced_widgets": [
            "07c8a3c468a342d6a9e0cf3660bb7941",
            "eeb5bfc168e648ed8b52f3be6f207120",
            "7ece3b7120ce448d9c236b33f2d62c12",
            "d331865e39d947beac2d6c4e9e8105ca",
            "3eeeba3da1d64bf7a33d83552b68002e",
            "212f1820d0e445f1981a7116f8a71de8",
            "bd9b9010f3de4c1abc27c9a3132d7c1f",
            "59e130866c4c4a88aa87e70bf8e1ed95",
            "688561271d46497e92b26d07501a4016",
            "358363d2510244ee99440effb0bb86bf",
            "9196bddbec094d08924fa3a69f507234"
          ]
        },
        "id": "nS4_VY41sSOQ",
        "outputId": "2c39212e-991e-4005-94b7-7c7412347dec"
      },
      "outputs": [
        {
          "output_type": "display_data",
          "data": {
            "text/plain": [
              "Downloading model.safetensors:   0%|          | 0.00/440M [00:00<?, ?B/s]"
            ],
            "application/vnd.jupyter.widget-view+json": {
              "version_major": 2,
              "version_minor": 0,
              "model_id": "07c8a3c468a342d6a9e0cf3660bb7941"
            }
          },
          "metadata": {}
        },
        {
          "output_type": "stream",
          "name": "stderr",
          "text": [
            "Some weights of the PyTorch model were not used when initializing the TF 2.0 model TFBertModel: ['cls.predictions.transform.LayerNorm.bias', 'cls.predictions.transform.LayerNorm.weight', 'cls.predictions.transform.dense.bias', 'cls.seq_relationship.weight', 'cls.predictions.bias', 'cls.seq_relationship.bias', 'cls.predictions.transform.dense.weight']\n",
            "- This IS expected if you are initializing TFBertModel from a PyTorch model trained on another task or with another architecture (e.g. initializing a TFBertForSequenceClassification model from a BertForPreTraining model).\n",
            "- This IS NOT expected if you are initializing TFBertModel from a PyTorch model that you expect to be exactly identical (e.g. initializing a TFBertForSequenceClassification model from a BertForSequenceClassification model).\n",
            "All the weights of TFBertModel were initialized from the PyTorch model.\n",
            "If your task is similar to the task the model of the checkpoint was trained on, you can already use TFBertModel for predictions without further training.\n"
          ]
        }
      ],
      "source": [
        "# Load pre-trained BERT model and tokenizer\n",
        "model_name = 'bert-base-uncased'\n",
        "tokenizer = BertTokenizer.from_pretrained(model_name)\n",
        "model = TFBertModel.from_pretrained(model_name)\n",
        "\n",
        "# Preprocess the data\n",
        "max_length = 50  # Maximum sequence length, due system limitation\n",
        "X_train = df_train['article'].values\n",
        "y_train = df_train['label'].values\n",
        "X_test = df_test['article'].values\n",
        "y_test = df_test['label'].values\n",
        "\n",
        "# Tokenize and encode the input sequences\n",
        "X_train_encoded = tokenizer.batch_encode_plus(\n",
        "    X_train,\n",
        "    truncation=True,\n",
        "    padding='max_length',\n",
        "    max_length=max_length,\n",
        "    return_attention_mask=True,\n",
        "    return_tensors='tf'\n",
        ")\n",
        "\n",
        "X_test_encoded = tokenizer.batch_encode_plus(\n",
        "    X_test,\n",
        "    truncation=True,\n",
        "    padding='max_length',\n",
        "    max_length=max_length,\n",
        "    return_attention_mask=True,\n",
        "    return_tensors='tf'\n",
        ")"
      ]
    },
    {
      "cell_type": "code",
      "execution_count": null,
      "metadata": {
        "colab": {
          "base_uri": "https://localhost:8080/"
        },
        "id": "cg1XXJIVun9P",
        "outputId": "b141cff1-72ff-4b7b-c9ff-6d6be0c546d9"
      },
      "outputs": [
        {
          "output_type": "stream",
          "name": "stdout",
          "text": [
            "354/354 [==============================] - 1865s 5s/step\n",
            "[[[ 0.01773422  0.2394377   0.31624174 ... -0.49523222  0.27055913\n",
            "   -0.06574426]\n",
            "  [ 1.2503889   0.7147877   0.8471421  ... -0.4876123   0.59645945\n",
            "   -0.683615  ]\n",
            "  [-0.31871969  0.24075605  0.4555317  ... -0.03915391 -0.00459672\n",
            "   -0.5583638 ]\n",
            "  ...\n",
            "  [-0.03690768  0.43333155  0.75794065 ... -0.5995133   0.04579444\n",
            "   -0.27240297]\n",
            "  [-0.05398957  0.7590048   0.5230497  ... -0.7681844  -0.12458444\n",
            "   -0.37474492]\n",
            "  [ 0.5479066   0.2826706  -0.14013037 ... -0.00506602 -0.3396699\n",
            "   -0.22720906]]\n",
            "\n",
            " [[-0.4889018  -0.27052188  0.17369013 ... -0.22493751  0.13211012\n",
            "    0.11195996]\n",
            "  [-0.08052783 -0.27429348  0.7618418  ... -0.27751946  0.34925756\n",
            "   -0.02271587]\n",
            "  [ 0.0055091  -0.7648631   0.7456746  ...  0.05159764  0.22025068\n",
            "    0.60366106]\n",
            "  ...\n",
            "  [-0.6158258  -0.74396014  0.41801757 ... -0.04798111  0.19118446\n",
            "   -0.64755815]\n",
            "  [-0.40360555 -0.718751   -0.17946157 ...  0.40629452  0.28697485\n",
            "   -0.42906496]\n",
            "  [ 0.7523765  -0.07750336 -0.19772239 ...  0.17723675 -0.34556717\n",
            "   -0.1302593 ]]\n",
            "\n",
            " [[-0.21194878 -0.04973931  0.39665538 ... -0.6473419   0.28859296\n",
            "    0.3760803 ]\n",
            "  [ 0.69675887  0.09162069  1.0839121  ... -0.4452084  -0.05028508\n",
            "   -0.41872627]\n",
            "  [ 0.48868996  0.03060515  0.593754   ... -0.07885948 -0.25050086\n",
            "   -0.08217745]\n",
            "  ...\n",
            "  [ 0.30068406 -0.20651062  1.1691875  ... -0.27958664 -0.23340127\n",
            "   -0.43139023]\n",
            "  [-0.39722893 -0.46337342 -0.05196026 ...  0.5328867  -0.25142246\n",
            "   -0.27134928]\n",
            "  [ 0.7009069   0.26882246  0.10171954 ...  0.06445438 -0.19084796\n",
            "   -0.20091425]]\n",
            "\n",
            " ...\n",
            "\n",
            " [[-0.50643283 -0.06491851  0.41427952 ... -0.6557999  -0.07832122\n",
            "    0.17053986]\n",
            "  [-0.97453964  0.02688325  0.6895001  ...  0.18820181  0.7499839\n",
            "    0.11260346]\n",
            "  [-0.3902847  -0.09100319  0.14916435 ... -0.10569846 -0.13539279\n",
            "    0.15137222]\n",
            "  ...\n",
            "  [ 0.0765037  -0.2304549   0.79721886 ... -0.2822997  -0.19316858\n",
            "    0.13559195]\n",
            "  [-0.34118316  0.57857     0.20059249 ... -0.8381777  -0.35026345\n",
            "   -0.11930556]\n",
            "  [ 0.5616859   0.12403201 -0.14569892 ...  0.12963024 -0.4432867\n",
            "   -0.35972   ]]\n",
            "\n",
            " [[-0.6829347   0.02055854  0.43138334 ... -0.79807675  0.19584392\n",
            "    0.5704124 ]\n",
            "  [-0.7633856  -0.49477053  0.08430039 ... -0.57824546  0.94673127\n",
            "    0.10562634]\n",
            "  [-0.21504036 -0.02945669  0.5874499  ... -1.0095819   0.03363283\n",
            "    0.4619321 ]\n",
            "  ...\n",
            "  [-0.27873147  0.06088753  0.47798705 ... -0.4038456  -0.15148814\n",
            "    0.13511845]\n",
            "  [-0.24188992 -0.17843005  0.8059534  ... -0.21966752 -0.16904247\n",
            "    0.34054518]\n",
            "  [-0.17707863  0.07628726  0.5632776  ... -0.43209648 -0.02649813\n",
            "    0.17707814]]\n",
            "\n",
            " [[-0.37735176 -0.54639375  0.15459207 ... -0.42328656  0.10029185\n",
            "    0.1447852 ]\n",
            "  [ 0.30837694 -0.03513039  0.32376194 ... -0.10949773 -0.05666063\n",
            "   -0.38431594]\n",
            "  [ 0.08718474  0.06380064  0.19425625 ...  0.1868608  -0.12035708\n",
            "   -0.23559664]\n",
            "  ...\n",
            "  [ 0.06612816 -0.59458524  0.31717342 ... -0.6224379  -0.34764442\n",
            "    0.24054977]\n",
            "  [-0.17867891 -1.0798569   0.02701227 ... -0.63286245 -0.1928851\n",
            "    0.20355767]\n",
            "  [ 0.65906197  0.11253898 -0.15341641 ...  0.12103523 -0.4239047\n",
            "   -0.36433244]]]\n",
            "236/236 [==============================] - 1207s 5s/step\n"
          ]
        }
      ],
      "source": [
        "# Get BERT embeddings\n",
        "X_train_embeddings = model.predict([X_train_encoded['input_ids'], X_train_encoded['attention_mask']])\n",
        "print(X_train_embeddings.last_hidden_state)\n",
        "X_test_embeddings = model.predict([X_test_encoded['input_ids'], X_test_encoded['attention_mask']])\n",
        "#print(X_test_embeddings)\n",
        "\n",
        "# Reshape the embeddings for compatibility with classifiers\n",
        "X_train_embeddings = np.array(X_train_embeddings.last_hidden_state)[:, 0, :]\n",
        "\n",
        "X_test_embeddings = np.array(X_test_embeddings.last_hidden_state)[:, 0, :]\n",
        "#print(X_train_embeddings)"
      ]
    },
    {
      "cell_type": "code",
      "execution_count": null,
      "metadata": {
        "colab": {
          "base_uri": "https://localhost:8080/"
        },
        "id": "na78mA9N6dCV",
        "outputId": "ef7f31bb-f240-4b13-938f-c80e4e74e028"
      },
      "outputs": [
        {
          "output_type": "stream",
          "name": "stdout",
          "text": [
            "RF Accuracy: 0.09532660647902283\n"
          ]
        }
      ],
      "source": [
        "from sklearn.preprocessing import MinMaxScaler #fixed import\n",
        "from sklearn.ensemble import RandomForestClassifier\n",
        "\n",
        "scaler = MinMaxScaler()\n",
        "X_train_embeddings = scaler.fit_transform(X_train_embeddings)\n",
        "#X_test = scaler.transform(X_test)\n",
        "\n",
        "# # Initialize and train the classifiers\n",
        "# svm = SVC()\n",
        "# svm.fit(X_train_embeddings, y_train)\n",
        "\n",
        "# mnb = MultinomialNB()\n",
        "# mnb.fit(X_train_embeddings, y_train)\n",
        "\n",
        "rf = RandomForestClassifier()\n",
        "rf.fit(X_train_embeddings, y_train)\n",
        "\n",
        "# Predict on the test set\n",
        "# y_pred_svm = svm.predict(X_test_embeddings)\n",
        "# y_pred_mnb = mnb.predict(X_test_embeddings)\n",
        "y_pred_rf = rf.predict(X_test_embeddings)\n",
        "\n",
        "# Calculate accuracies\n",
        "# accuracy_svm = accuracy_score(y_test, y_pred_svm)\n",
        "# accuracy_mnb = accuracy_score(y_test, y_pred_mnb)\n",
        "accuracy_rf = accuracy_score(y_test, y_pred_rf)\n",
        "\n",
        "# print(\"SVM Accuracy:\", accuracy_svm)\n",
        "# print(\"MNB Accuracy:\", accuracy_mnb)\n",
        "print(\"RF Accuracy:\", accuracy_rf)"
      ]
    },
    {
      "cell_type": "markdown",
      "metadata": {
        "id": "GzD4JM2BDKOn"
      },
      "source": [
        "## Comparison of word2vec, GloVe, and BERT embeddings\n",
        "### Discussion on the embeddings that provide better semantic understanding"
      ]
    },
    {
      "cell_type": "markdown",
      "metadata": {
        "id": "WLQk1UxsJRud"
      },
      "source": [
        "Word2Vec, GloVe, and BERT are all popular methods used for generating word embeddings, but they differ in their approaches and the level of semantic understanding they provide. Here is a comparison in terms of their underlying methodologies and their semantic understanding capabilities.\n",
        "\n",
        "### Word2Vec:\n",
        "\n",
        "Word2Vec is a shallow neural network-based approach for generating word embeddings. It has two main models: Continuous Bag of Words (CBOW) and Skip-gram. Word2Vec captures word co-occurrence patterns in a large corpus to learn vector representations that encode semantic and syntactic similarities between words. The resulting embeddings are effective for capturing word-level relationships, such as analogies (e.g., \"king\" - \"man\" + \"woman\" ≈ \"queen\").\n",
        "However, Word2Vec has limitations when it comes to understanding complex semantic relationships. It does not consider contextual information, resulting in a lack of sensitivity to word meaning variations across different contexts.\n",
        "\n",
        "### GloVe:\n",
        "Global Vectors for Word Representation (GloVe) is a model that combines the advantages of Word2Vec and matrix factorization techniques. It leverages co-occurrence statistics to capture both local and global word relationships. GloVe embeddings are generated by factorizing a word co-occurrence matrix to obtain vector representations that encode semantic meaning.\n",
        "GloVe embeddings excel at capturing global semantic relationships between words. They provide better results for tasks like word analogy and word similarity. GloVe also mitigates some of the weaknesses of Word2Vec by considering the global context of word occurrences. However, like Word2Vec, GloVe does not capture fine-grained contextual information.\n",
        "\n",
        "### BERT:\n",
        "Bidirectional Encoder Representations from Transformers (BERT) is a deep transformer-based model that revolutionized natural language processing. Unlike Word2Vec and GloVe, BERT is a contextually aware language model that learns word embeddings while considering the surrounding context. It uses a masked language model and a next sentence prediction task during pre-training to generate embeddings that capture rich semantic and contextual information.\n",
        "BERT embeddings provide a deeper understanding of semantic relationships as they capture context-specific meanings. This enables BERT to perform well on various downstream tasks, such as named entity recognition, sentiment analysis, and question answering. BERT's ability to consider bidirectional context gives it an advantage over Word2Vec and GloVe for capturing more nuanced semantic nuances.\n",
        "\n",
        "In terms of semantic understanding, BERT embeddings generally outperform Word2Vec and GloVe due to their contextual awareness. They excel in capturing fine-grained relationships and nuances between words. However, it's worth noting that BERT models are computationally expensive and require substantial resources for training and inference, which may limit their applicability in certain scenarios.\n",
        "\n",
        "Overall, while Word2Vec and GloVe are effective for capturing word-level relationships, BERT embeddings provide better semantic understanding by considering contextual information, making them more suitable for a wide range of natural language processing tasks"
      ]
    },
    {
      "cell_type": "markdown",
      "metadata": {
        "id": "BAniJIc7JtNb"
      },
      "source": [
        "**Part 2: Text Classification Model (20 Points)**\n",
        "\n",
        "Correct implementation of chosen classification model\n",
        "\n",
        "Comprehensive discussion on the choice of model, including its advantages and disadvantages\n",
        "\n",
        "We are now ready to define our neural network model. The model will use an Embedding layer as the first hidden layer. The Embedding layer is initialized with random weights and will learn an embedding for all of the words in the training dataset during training of the model."
      ]
    },
    {
      "cell_type": "markdown",
      "metadata": {
        "id": "oUWoZwQvJ5Rs"
      },
      "source": [
        "**Text Classification Using CNN Model**\n",
        "\n",
        "To use CNN for text classification, we will use the Sequential() model in Tensorflow Keras and add the layers into this model one by one."
      ]
    },
    {
      "cell_type": "code",
      "execution_count": 31,
      "metadata": {
        "id": "dqbfdkbXdqRj"
      },
      "outputs": [],
      "source": [
        "model = Sequential()"
      ]
    },
    {
      "cell_type": "markdown",
      "metadata": {
        "id": "y8dmSscWKf4c"
      },
      "source": [
        "**Use embedding matrix generated from glove embedding**\n",
        "\n",
        "Initialize the weights of the Embedding layer with the embedding matrix. Secondly, we will need to assign trainable=True so that model weights are fine-tuned as per the news categories in the training data:"
      ]
    },
    {
      "cell_type": "code",
      "execution_count": 32,
      "metadata": {
        "id": "xFLdXtQ5KoMU"
      },
      "outputs": [],
      "source": [
        "embedding_dim = 100\n",
        "model.add(layers.Embedding(input_dim=vocab_size, output_dim=embedding_dim, input_length=sequence_len, weights = [embedding_matrix], trainable = True))\n"
      ]
    },
    {
      "cell_type": "code",
      "execution_count": 33,
      "metadata": {
        "id": "1oRXZctQKx8r"
      },
      "outputs": [],
      "source": [
        "model.add(layers.Conv1D(filters=128, kernel_size=5, activation='relu'))\n",
        "model.add(layers.GlobalMaxPool1D())"
      ]
    },
    {
      "cell_type": "markdown",
      "metadata": {
        "id": "x7VRBH2iKtyr"
      },
      "source": [
        "To complete the model, we will add fully connected hidden network layers with ‘relu’ activation and an output layer having the same no. of neurons as that of the news categories (20) with ‘softmax’ activation:"
      ]
    },
    {
      "cell_type": "code",
      "execution_count": 34,
      "metadata": {
        "id": "bgZngjTNK716"
      },
      "outputs": [],
      "source": [
        "model.add(layers.Dense(64, activation='relu'))\n",
        "model.add(layers.Dense(32, activation='relu'))\n",
        "model.add(layers.Dense(20, activation='softmax'))"
      ]
    },
    {
      "cell_type": "markdown",
      "metadata": {
        "id": "CqIJ5LQ5LCIy"
      },
      "source": [
        "Now we can compile the model by defining the optimization and loss calculation algorithms:"
      ]
    },
    {
      "cell_type": "code",
      "execution_count": 35,
      "metadata": {
        "id": "mqto70JTLATS",
        "colab": {
          "base_uri": "https://localhost:8080/"
        },
        "outputId": "2c0517ff-7457-4808-b92f-9b4bd83ac54d"
      },
      "outputs": [
        {
          "output_type": "stream",
          "name": "stdout",
          "text": [
            "Model: \"sequential\"\n",
            "_________________________________________________________________\n",
            " Layer (type)                Output Shape              Param #   \n",
            "=================================================================\n",
            " embedding (Embedding)       (None, 400, 100)          11566200  \n",
            "                                                                 \n",
            " conv1d (Conv1D)             (None, 396, 128)          64128     \n",
            "                                                                 \n",
            " global_max_pooling1d (Globa  (None, 128)              0         \n",
            " lMaxPooling1D)                                                  \n",
            "                                                                 \n",
            " dense (Dense)               (None, 64)                8256      \n",
            "                                                                 \n",
            " dense_1 (Dense)             (None, 32)                2080      \n",
            "                                                                 \n",
            " dense_2 (Dense)             (None, 20)                660       \n",
            "                                                                 \n",
            "=================================================================\n",
            "Total params: 11,641,324\n",
            "Trainable params: 11,641,324\n",
            "Non-trainable params: 0\n",
            "_________________________________________________________________\n"
          ]
        }
      ],
      "source": [
        "model.compile(optimizer='adam', loss='sparse_categorical_crossentropy', metrics=['accuracy'])\n",
        "model.summary()"
      ]
    },
    {
      "cell_type": "markdown",
      "metadata": {
        "id": "CkG8NP94LQND"
      },
      "source": [
        "Now we can fit the CNN model for text classification using the training dataset, whereas the validation dataset will be used to calculate the validation loss/accuracy during training:"
      ]
    },
    {
      "cell_type": "code",
      "execution_count": 36,
      "metadata": {
        "id": "tjv7V4p-LTaj",
        "colab": {
          "base_uri": "https://localhost:8080/"
        },
        "outputId": "858110f6-d4e6-4015-f4b9-f464be782f19"
      },
      "outputs": [
        {
          "output_type": "stream",
          "name": "stdout",
          "text": [
            "Epoch 1/20\n",
            "89/89 [==============================] - 89s 966ms/step - loss: 2.9951 - accuracy: 0.0491 - val_loss: 2.9941 - val_accuracy: 0.0530\n",
            "Epoch 2/20\n",
            "89/89 [==============================] - 88s 996ms/step - loss: 2.9936 - accuracy: 0.0530 - val_loss: 2.9928 - val_accuracy: 0.0530\n",
            "Epoch 3/20\n",
            "89/89 [==============================] - 94s 1s/step - loss: 2.9926 - accuracy: 0.0492 - val_loss: 2.9921 - val_accuracy: 0.0530\n",
            "Epoch 4/20\n",
            "89/89 [==============================] - 97s 1s/step - loss: 2.9919 - accuracy: 0.0530 - val_loss: 2.9915 - val_accuracy: 0.0530\n",
            "Epoch 5/20\n",
            "89/89 [==============================] - 93s 1s/step - loss: 2.9914 - accuracy: 0.0530 - val_loss: 2.9911 - val_accuracy: 0.0530\n",
            "Epoch 6/20\n",
            "89/89 [==============================] - 100s 1s/step - loss: 2.9911 - accuracy: 0.0506 - val_loss: 2.9908 - val_accuracy: 0.0528\n",
            "Epoch 7/20\n",
            "89/89 [==============================] - 89s 998ms/step - loss: 2.9909 - accuracy: 0.0525 - val_loss: 2.9907 - val_accuracy: 0.0530\n",
            "Epoch 8/20\n",
            "89/89 [==============================] - 89s 998ms/step - loss: 2.9907 - accuracy: 0.0506 - val_loss: 2.9905 - val_accuracy: 0.0528\n",
            "Epoch 9/20\n",
            "89/89 [==============================] - 90s 1s/step - loss: 2.9906 - accuracy: 0.0503 - val_loss: 2.9905 - val_accuracy: 0.0530\n",
            "Epoch 10/20\n",
            "89/89 [==============================] - 87s 983ms/step - loss: 2.9905 - accuracy: 0.0521 - val_loss: 2.9904 - val_accuracy: 0.0530\n",
            "Epoch 11/20\n",
            "89/89 [==============================] - 89s 996ms/step - loss: 2.9905 - accuracy: 0.0506 - val_loss: 2.9903 - val_accuracy: 0.0528\n",
            "Epoch 12/20\n",
            "89/89 [==============================] - 89s 1s/step - loss: 2.9905 - accuracy: 0.0511 - val_loss: 2.9903 - val_accuracy: 0.0530\n",
            "Epoch 13/20\n",
            "89/89 [==============================] - 90s 1s/step - loss: 2.9904 - accuracy: 0.0494 - val_loss: 2.9903 - val_accuracy: 0.0530\n",
            "Epoch 14/20\n",
            "89/89 [==============================] - 88s 995ms/step - loss: 2.9904 - accuracy: 0.0513 - val_loss: 2.9903 - val_accuracy: 0.0530\n",
            "Epoch 15/20\n",
            "89/89 [==============================] - 88s 995ms/step - loss: 2.9904 - accuracy: 0.0499 - val_loss: 2.9903 - val_accuracy: 0.0530\n",
            "Epoch 16/20\n",
            "89/89 [==============================] - 89s 998ms/step - loss: 2.9904 - accuracy: 0.0515 - val_loss: 2.9903 - val_accuracy: 0.0530\n",
            "Epoch 17/20\n",
            "89/89 [==============================] - 89s 1s/step - loss: 2.9904 - accuracy: 0.0530 - val_loss: 2.9903 - val_accuracy: 0.0530\n",
            "Epoch 18/20\n",
            "89/89 [==============================] - 87s 978ms/step - loss: 2.9904 - accuracy: 0.0516 - val_loss: 2.9903 - val_accuracy: 0.0530\n",
            "Epoch 19/20\n",
            "89/89 [==============================] - 91s 1s/step - loss: 2.9904 - accuracy: 0.0498 - val_loss: 2.9903 - val_accuracy: 0.0528\n",
            "Epoch 20/20\n",
            "89/89 [==============================] - 89s 1s/step - loss: 2.9904 - accuracy: 0.0508 - val_loss: 2.9903 - val_accuracy: 0.0527\n"
          ]
        }
      ],
      "source": [
        "history = model.fit(X_train_token, y_train, epochs=20, validation_data=(X_test_token, y_test), batch_size=128)"
      ]
    },
    {
      "cell_type": "markdown",
      "metadata": {
        "id": "9PTCHKFALbSb"
      },
      "source": [
        "Because of limited computing resources, it is restricted the training to only 20 epochs"
      ]
    },
    {
      "cell_type": "code",
      "execution_count": 37,
      "metadata": {
        "id": "Dn6M3Bw-LfFE",
        "colab": {
          "base_uri": "https://localhost:8080/"
        },
        "outputId": "13b40a7c-d123-4bb0-b5ed-043bf753ba6e"
      },
      "outputs": [
        {
          "output_type": "stream",
          "name": "stdout",
          "text": [
            "        loss  accuracy  val_loss  val_accuracy\n",
            "0   2.995071  0.049143  2.994066      0.052974\n",
            "1   2.993587  0.053032  2.992849      0.052974\n",
            "2   2.992586  0.049231  2.992066      0.052974\n",
            "3   2.991887  0.053032  2.991468      0.052974\n",
            "4   2.991445  0.053032  2.991104      0.052974\n",
            "5   2.991080  0.050645  2.990836      0.052841\n",
            "6   2.990862  0.052501  2.990657      0.052974\n",
            "7   2.990722  0.050645  2.990520      0.052841\n",
            "8   2.990615  0.050292  2.990454      0.052974\n",
            "9   2.990549  0.052059  2.990375      0.052974\n",
            "10  2.990514  0.050645  2.990340      0.052841\n",
            "11  2.990474  0.051087  2.990324      0.052974\n",
            "12  2.990445  0.049408  2.990311      0.052974\n",
            "13  2.990430  0.051264  2.990293      0.052974\n",
            "14  2.990433  0.049938  2.990290      0.052974\n",
            "15  2.990425  0.051529  2.990281      0.052974\n",
            "16  2.990420  0.053032  2.990274      0.052974\n",
            "17  2.990424  0.051617  2.990270      0.052974\n",
            "18  2.990438  0.049850  2.990271      0.052841\n",
            "19  2.990426  0.050822  2.990269      0.052708\n"
          ]
        }
      ],
      "source": [
        "metrics_df = pd.DataFrame(history.history)\n",
        "print(metrics_df)"
      ]
    },
    {
      "cell_type": "markdown",
      "metadata": {
        "id": "FKZ0MD15LlNr"
      },
      "source": [
        "We can now plot the loss and accuracy for validation/testing datasets using matplotlib and get an idea of the model training:"
      ]
    },
    {
      "cell_type": "code",
      "execution_count": 38,
      "metadata": {
        "id": "uCPbEMExLtXq",
        "colab": {
          "base_uri": "https://localhost:8080/",
          "height": 487
        },
        "outputId": "854607b8-e24a-4a55-8078-323d9d4f7b2b"
      },
      "outputs": [
        {
          "output_type": "display_data",
          "data": {
            "text/plain": [
              "<Figure size 1000x500 with 1 Axes>"
            ],
            "image/png": "[encoded data removed]"
          },
          "metadata": {}
        }
      ],
      "source": [
        "plt.figure(figsize=(10,5))\n",
        "plt.plot(metrics_df.index, metrics_df.loss)\n",
        "plt.plot(metrics_df.index, metrics_df.val_loss)\n",
        "plt.title('Newsgroup 20 Dataset Neural Network Training with Corpus Word Embeddings')\n",
        "plt.xlabel('Epochs')\n",
        "plt.ylabel('Categorical Crossentropy Loss')\n",
        "plt.legend(['Training Loss', 'Validation Loss'])\n",
        "plt.show()"
      ]
    },
    {
      "cell_type": "code",
      "execution_count": 39,
      "metadata": {
        "id": "iqrD21kAL0yq",
        "colab": {
          "base_uri": "https://localhost:8080/",
          "height": 487
        },
        "outputId": "3530178e-0d9a-4ce1-95df-960ed587ea3a"
      },
      "outputs": [
        {
          "output_type": "display_data",
          "data": {
            "text/plain": [
              "<Figure size 1000x500 with 1 Axes>"
            ],
            "image/png": "[encoded data removed]"
          },
          "metadata": {}
        }
      ],
      "source": [
        "plt.figure(figsize=(10,5))\n",
        "plt.plot(metrics_df.index, metrics_df.accuracy)\n",
        "plt.plot(metrics_df.index, metrics_df.val_accuracy)\n",
        "plt.title('Newsgroup 20 Dataset Neural Network Training with GLOVE Word Embeddings')\n",
        "plt.xlabel('Epochs')\n",
        "plt.ylabel('Acuracy')\n",
        "plt.legend(['Training Accuracy', 'Validation Accuracy'])\n",
        "plt.show()"
      ]
    },
    {
      "cell_type": "markdown",
      "metadata": {
        "id": "Cv4lvbagL6Gq"
      },
      "source": [
        "### Comprehensive discussion on the choice of model, including its advantages and disadvantages\n",
        "\n",
        "#### Advantages of using a CNN model for text classification with a matrix generated from GloVe embeddings\n",
        "\n",
        "\n",
        "These results could further be improved by training the models for larger epochs and using a GloVe embedding with more tokens and/or dimensions.\n",
        "\n",
        "Using a Convolutional Neural Network (CNN) model for text classification with a matrix generated from GloVe embeddings offers several advantages. Let's discuss these advantages in detail:\n",
        "\n",
        "Capturing Local Patterns: CNN models are well-suited for capturing local patterns within sequences, making them effective for text classification tasks. In the context of natural language processing, local patterns can be n-grams or word combinations that carry important information for classification. CNNs utilize convolutional layers to detect these patterns efficiently.\n",
        "\n",
        "Parameter Sharing: CNNs leverage parameter sharing, meaning that the same set of weights is applied to different parts of the input. In the case of text classification, this allows the model to identify relevant features (e.g., important words or phrases) regardless of their position in the input text. Parameter sharing enables the model to learn from a larger number of training instances, leading to improved generalization and reduced overfitting.\n",
        "\n",
        "Handling Variable-Length Inputs: Text data often has variable lengths, which can be challenging for traditional neural network architectures. However, CNN models can handle variable-length inputs through their ability to perform convolutions across different lengths. By using sliding windows of different sizes, CNNs can capture patterns at various granularities, effectively dealing with the variable-length nature of text.\n",
        "\n",
        "Complementary GloVe Embeddings: GloVe embeddings, derived from co-occurrence statistics, provide vector representations that encode semantic meaning. By utilizing these pre-trained embeddings as input to the CNN model, the network can benefit from the semantic information encoded in the GloVe vectors. This can enhance the model's understanding of word relationships and improve its performance on downstream tasks.\n",
        "\n",
        "Transfer Learning: CNN models with GloVe embeddings allow for transfer learning. GloVe embeddings are trained on large-scale corpora and capture general semantic information from text. By utilizing these pre-trained embeddings as a starting point, the CNN model can leverage the knowledge encoded in the GloVe vectors and adapt it to the specific classification task with a smaller dataset. This enables the model to achieve better performance even when the available training data is limited.\n",
        "\n",
        "Despite their advantages, CNN models with GloVe embeddings also have some limitations:\n",
        "\n",
        "Lack of Contextual Information: GloVe embeddings provide word-level representations but do not capture fine-grained contextual information. While they encode semantic relationships, they do not consider the specific context in which words appear. This can limit the model's understanding of subtle semantic nuances and dependencies that rely on context.\n",
        "\n",
        "Inability to Capture Long-Range Dependencies: CNN models with fixed-size convolutions are limited in capturing long-range dependencies between words in a sentence. While they excel at detecting local patterns, they may struggle to capture relationships that span across a large distance within the text.\n",
        "\n",
        "Vocabulary Limitations: GloVe embeddings are generated based on the words present in the training corpus. Therefore, out-of-vocabulary (OOV) words or rare words not seen during training may not have pre-existing embeddings. Handling OOV words and rare words becomes a challenge when using GloVe embeddings in a CNN model.\n",
        "\n",
        "Computational Complexity: CNN models can be computationally intensive, especially if the input text is large or if the model architecture is complex. Training and inference may require significant computational resources and time.\n",
        "\n",
        "In conclusion, utilizing a CNN model with a matrix generated from GloVe embeddings offers advantages such as capturing local patterns, parameter sharing, handling variable-length inputs, and leveraging transfer learning. However, it has limitations in terms of capturing contextual information, long-range dependencies, vocabulary limitations, and computational complexity. These factors should be carefully considered when choosing a model for text classification tasks.\n"
      ]
    },
    {
      "cell_type": "markdown",
      "metadata": {
        "id": "fz7NgKnRMFP6"
      },
      "source": [
        "## Part 3: Text Clustering Model (20 Points)\n",
        "\n",
        "\n",
        "*  Correct implementation of chosen clustering model\n",
        "*  Comprehensive discussion on the choice of model, including its pros and cons\n",
        "\n",
        "\n",
        "\n",
        "\n"
      ]
    },
    {
      "cell_type": "code",
      "execution_count": 40,
      "metadata": {
        "id": "hbN7KalxMTY6",
        "colab": {
          "base_uri": "https://localhost:8080/"
        },
        "outputId": "06e861f5-8f7b-486f-c121-4b735b06485c"
      },
      "outputs": [
        {
          "output_type": "stream",
          "name": "stdout",
          "text": [
            "[['fair', 'number', 'brave', 'soul', 'upgrade', 'clock', 'oscillator', 'share', 'experience', 'poll', 'please', 'send', 'brief', 'message', 'detail', 'experience', 'procedure', 'top', 'speed', 'attain', 'cpu', 'rat', 'speed', 'add', 'card', 'adapter', 'heat', 'sink', 'hour', 'usage', 'per', 'day', 'floppy', 'disk', 'functionality', '800', 'floppy', 'especially', 'request', 'summarize', 'next', 'two', 'day', 'please', 'add', 'network', 'knowledge', 'base', 'do', 'clock', 'upgrade', 'answer', 'poll', 'thanks'], ['well', 'folk', 'mac', 'plus', 'finally', 'give', 'ghost', 'weekend', 'start', 'life', '512k', 'way', 'back', '1985', 'sooo', 'market', 'new', 'machine', 'bit', 'sooner', 'intend', 'look', 'pick', 'powerbook', '160', 'maybe', '180', 'bunch', 'question', 'hopefully', 'somebody', 'answer', 'anybody', 'know', 'dirt', 'next', 'round', 'powerbook', 'introduction', 'expect', 'heard', '185c', 'suppose', 'make', 'appearence', 'summer', 'heard', 'anymore', 'since', 'access', 'macleak', 'wonder', 'anybody', 'info', 'anybody', 'heard', 'rumor', 'price', 'drop', 'powerbook', 'line', 'like', 'one', 'duo', 'go', 'recently', 'impression', 'display', '180', 'could', 'probably', 'swing', '180', 'get', '80mb', 'disk', 'rather', '120', 'really', 'feel', 'much', 'good', 'display', 'yea', 'look', 'great', 'store', 'wow', 'really', 'good', 'could', 'solicit', 'opinion', 'people', 'use', '160', '180', 'daytoday', 'worth', 'take', 'disk', 'size', 'money', 'hit', 'get', 'active', 'display', 'realize', 'real', 'subjective', 'question', 'play', 'around', 'machine', 'computer', 'store', 'breifly', 'figure', 'opinion', 'somebody', 'actually', 'use', 'machine', 'daily', 'might', 'prove', 'helpful', 'well', 'hellcat', 'perform', 'thanks', 'bunch', 'advance', 'info', 'could', 'email', 'post', 'summary', 'news', 'reading', 'time', 'premium', 'final', 'around', 'corner', 'tom', 'willis', 'twillis', 'ecnpurdueedu', 'purdue', 'electrical', 'engineering'], ['weitek', 'addressphone', 'number', 'like', 'get', 'information', 'chip'], ['article', 'c5owcbn3p', 'worldstdcom', 'tombaker', 'worldstdcom', 'tom', 'baker', 'understand', 'expect', 'error', 'basically', 'know', 'bug', 'warn', 'system', 'software', 'thing', 'check', 'right', 'value', 'yet', 'set', 'till', 'launch', 'suchlike', 'rather', 'fix', 'code', 'possibly', 'introduce', 'new', 'bug', 'tell', 'crew', 'see', 'warn', '213', 'liftoff', 'ignore']]\n"
          ]
        }
      ],
      "source": [
        "print(sentences[1:5])"
      ]
    },
    {
      "cell_type": "code",
      "execution_count": 22,
      "metadata": {
        "id": "2QveI3V6MZrD",
        "colab": {
          "base_uri": "https://localhost:8080/"
        },
        "outputId": "350798e8-419d-4535-d62e-a721f0546f0b"
      },
      "outputs": [
        {
          "output_type": "stream",
          "name": "stdout",
          "text": [
            "[[-0.09071023  0.02813848  0.28380197 ... -0.13747197 -0.09908128\n",
            "   0.06942708]\n",
            " [-0.05525618  0.10118648  0.18876417 ... -0.11884667 -0.00735986\n",
            "   0.07376757]\n",
            " [-0.00121032  0.06390781  0.25437918 ... -0.09296017  0.02712311\n",
            "   0.24011175]\n",
            " [-0.07239241  0.10571804  0.2763223  ... -0.10511496  0.08149396\n",
            "   0.15323909]]\n"
          ]
        }
      ],
      "source": [
        "import numpy as np\n",
        "\n",
        "\n",
        "sentence_vectors = []\n",
        "for sentence in sentences:\n",
        "    word_vectors = [model_word2vec.wv[word] for word in sentence if word in model_word2vec.wv]\n",
        "    if len(word_vectors) > 0:\n",
        "        sentence_vector = np.mean(word_vectors, axis=0)  # Compute the mean of word vectors\n",
        "        sentence_vectors.append(sentence_vector)\n",
        "\n",
        "sentence_matrix = np.vstack(sentence_vectors)  # Convert the list of vectors to a matrix\n",
        "print(sentence_matrix[1:5])"
      ]
    },
    {
      "cell_type": "code",
      "execution_count": 42,
      "metadata": {
        "id": "-_3kPM3YMgzB",
        "colab": {
          "base_uri": "https://localhost:8080/"
        },
        "outputId": "d49bbc81-c22a-44d1-e509-c651073bfb4f"
      },
      "outputs": [
        {
          "output_type": "stream",
          "name": "stderr",
          "text": [
            "/usr/local/lib/python3.10/dist-packages/sklearn/cluster/_kmeans.py:870: FutureWarning: The default value of `n_init` will change from 10 to 'auto' in 1.4. Set the value of `n_init` explicitly to suppress the warning\n",
            "  warnings.warn(\n"
          ]
        }
      ],
      "source": [
        "from sklearn.cluster import KMeans\n",
        "\n",
        "# Assuming you have sentence_matrix from previous steps\n",
        "\n",
        "# Specify the number of clusters\n",
        "num_clusters = 5\n",
        "\n",
        "# Perform K-means clustering\n",
        "kmeans = KMeans(n_clusters=num_clusters, random_state=42)\n",
        "kmeans.fit(sentence_matrix)\n",
        "\n",
        "# Get the cluster labels for each sentence\n",
        "labels = kmeans.labels_\n",
        "\n",
        "# Print the cluster labels\n",
        "# for i, sentence in enumerate(sentences):\n",
        "#     if i < len(labels):\n",
        "#         print(f\"Sentence: {sentence}\")\n",
        "#         print(f\"Cluster label: {labels[i]}\")\n",
        "#         print()\n",
        "\n",
        "# Access the cluster centers\n",
        "cluster_centers = kmeans.cluster_centers_"
      ]
    },
    {
      "cell_type": "code",
      "execution_count": 43,
      "metadata": {
        "id": "BduiGRDbMm95",
        "colab": {
          "base_uri": "https://localhost:8080/",
          "height": 564
        },
        "outputId": "63c808eb-7e24-4a61-8cf5-6fa13d33797b"
      },
      "outputs": [
        {
          "output_type": "display_data",
          "data": {
            "text/plain": [
              "<Figure size 800x600 with 1 Axes>"
            ],
            "image/png": "[encoded data removed]"
          },
          "metadata": {}
        }
      ],
      "source": [
        "import matplotlib.pyplot as plt\n",
        "from sklearn.decomposition import PCA\n",
        "\n",
        "# Assuming you have sentence_matrix and labels from previous steps\n",
        "\n",
        "# Reduce the dimensionality using PCA\n",
        "pca = PCA(n_components=2)\n",
        "sentence_pca = pca.fit_transform(sentence_matrix)\n",
        "\n",
        "# Create a scatter plot of the sentence representations with cluster labels\n",
        "plt.figure(figsize=(8, 6))\n",
        "for i in range(num_clusters):\n",
        "    cluster_sentences = sentence_pca[labels == i]\n",
        "    plt.scatter(cluster_sentences[:, 0], cluster_sentences[:, 1], label=f\"Cluster {i}\")\n",
        "\n",
        "plt.title(\"Sentence Clustering\")\n",
        "plt.xlabel(\"PCA Dimension 1\")\n",
        "plt.ylabel(\"PCA Dimension 2\")\n",
        "plt.legend()\n",
        "plt.show()"
      ]
    },
    {
      "cell_type": "markdown",
      "metadata": {
        "id": "E_tg2B5wDKOs"
      },
      "source": [
        "\n",
        "**Choice of K-means:**\n",
        "K-means is a popular clustering algorithm that partitions data into K clusters based on similarity. Although K-means is primarily designed for unsupervised clustering, it can be adapted for text classification by assigning labels to clusters based on majority voting or using cluster centroids as representative examples.\n",
        "\n",
        "**Pros of using K-means for text classification:**\n",
        "\n",
        "**Simplicity:** K-means is a straightforward and easy-to-implement algorithm, making it accessible for beginners.\n",
        "Scalability: K-means is computationally efficient and can handle large datasets with a large number of features.\n",
        "\n",
        "**Interpretability:** The resulting clusters can provide insights into the structure and organization of the dataset, enabling some level of interpretability.\n",
        "Cons of using K-means for text classification:\n",
        "\n",
        "**Lack of probabilistic inference:** K-means does not provide probabilistic inference for cluster assignments. It assigns each document to a single cluster, potentially disregarding uncertainty or overlapping boundaries between classes.\n",
        "\n",
        "**Sensitivity to initialization:** K-means is sensitive to initial centroid selection, and different initializations can result in different cluster assignments. Multiple runs with different initializations may be needed to ensure robustness.\n",
        "\n",
        "**Assumption of spherical clusters:** K-means assumes that clusters are spherical and have equal variance. In text classification, this assumption may not hold as documents within the same class can have varying distributions and shapes in the feature space.\n",
        "\n",
        "**Difficulty in handling high-dimensional data:** Text data often has high dimensionality due to the large vocabulary. K-means may struggle to effectively cluster in high-dimensional spaces, leading to suboptimal results.\n",
        "\n",
        "**Choice of PCA:**\n",
        "\n",
        "Principal Component Analysis (PCA) is a dimensionality reduction technique used to reduce the number of features while preserving the most important information. PCA transforms the data into a lower-dimensional space by finding orthogonal directions (principal components) that capture the maximum variance.\n",
        "\n",
        "**Pros of using PCA for dimensionality reduction:**\n",
        "\n",
        "**Reduced computational complexity:** PCA reduces the dimensionality of the data, making subsequent computations more efficient.\n",
        "Noise reduction: By eliminating less informative dimensions, PCA can reduce the impact of noisy or irrelevant features, leading to improved clustering performance.\n",
        "\n",
        "**Visualization:** PCA can help visualize high-dimensional data in a lower-dimensional space, enabling better understanding of the data's structure.\n",
        "Cons of using PCA for dimensionality reduction:\n",
        "\n",
        "**Information loss:** PCA aims to retain the most important information, but it inevitably leads to some loss of detailed information in the original data.\n",
        "Interpretability challenges: The resulting transformed features after PCA may not have a direct correspondence to the original features, making it harder to interpret the model's decision-making process.\n",
        "\n",
        "In the context of text classification on the 20 Newsgroups dataset, using K-means with PCA has some limitations. K-means is not designed for supervised classification, and its performance heavily depends on the quality of the clustering and the representation of clusters. PCA reduces the dimensionality, but it may not capture all the intricate relationships present in the text data.\n",
        "\n",
        "To mitigate these limitations, we can consider the following:\n",
        "\n",
        "**Evaluation and refinement:** Proper evaluation metrics and validation techniques should be employed to assess the performance of the K-means model. Iterative refinement of hyperparameters, initialization strategies, and feature representations can help improve the results.\n",
        "\n",
        "**Feature engineering:** Use more sophisticated text representations, such as TF-IDF, word embeddings (e.g., Word2Vec, GloVe), or contextual embeddings (e.g., BERT), which can provide better feature representations than simple bag-of-words.\n",
        "\n",
        "**Ensemble methods:** Combine multiple clustering models\n",
        "\n",
        "\n",
        "\n"
      ]
    },
    {
      "cell_type": "markdown",
      "source": [
        "## 4. Part 4: Model Evaluation (20 Points)**\n",
        "\n"
      ],
      "metadata": {
        "id": "CenCrxK1auPb"
      }
    },
    {
      "cell_type": "code",
      "source": [
        "metrics_df = pd.DataFrame(history.history)\n",
        "print(metrics_df)"
      ],
      "metadata": {
        "colab": {
          "base_uri": "https://localhost:8080/"
        },
        "id": "Kycr_AvMbbny",
        "outputId": "03d8bc3c-844b-44a9-d008-000a04142524"
      },
      "execution_count": 44,
      "outputs": [
        {
          "output_type": "stream",
          "name": "stdout",
          "text": [
            "        loss  accuracy  val_loss  val_accuracy\n",
            "0   2.995071  0.049143  2.994066      0.052974\n",
            "1   2.993587  0.053032  2.992849      0.052974\n",
            "2   2.992586  0.049231  2.992066      0.052974\n",
            "3   2.991887  0.053032  2.991468      0.052974\n",
            "4   2.991445  0.053032  2.991104      0.052974\n",
            "5   2.991080  0.050645  2.990836      0.052841\n",
            "6   2.990862  0.052501  2.990657      0.052974\n",
            "7   2.990722  0.050645  2.990520      0.052841\n",
            "8   2.990615  0.050292  2.990454      0.052974\n",
            "9   2.990549  0.052059  2.990375      0.052974\n",
            "10  2.990514  0.050645  2.990340      0.052841\n",
            "11  2.990474  0.051087  2.990324      0.052974\n",
            "12  2.990445  0.049408  2.990311      0.052974\n",
            "13  2.990430  0.051264  2.990293      0.052974\n",
            "14  2.990433  0.049938  2.990290      0.052974\n",
            "15  2.990425  0.051529  2.990281      0.052974\n",
            "16  2.990420  0.053032  2.990274      0.052974\n",
            "17  2.990424  0.051617  2.990270      0.052974\n",
            "18  2.990438  0.049850  2.990271      0.052841\n",
            "19  2.990426  0.050822  2.990269      0.052708\n"
          ]
        }
      ]
    },
    {
      "cell_type": "markdown",
      "source": [
        "When training a Convolutional Neural Network (CNN) for classification tasks, several loss and accuracy metrics are commonly used to evaluate the performance of the model. Here are some commonly used metrics:\n",
        "\n",
        "**Loss Metrics:**\n",
        "\n",
        "Cross-Entropy Loss: This is the most commonly used loss function for classification problems. It measures the dissimilarity between the predicted class probabilities and the true class labels.\n",
        "\n",
        "Categorical Cross-Entropy Loss: Specifically used when dealing with multi-class classification problems, where each instance can only belong to one class.\n",
        "\n",
        "Binary Cross-Entropy Loss: Used in binary classification problems, where each instance can belong to one of two classes.\n",
        "Accuracy Metrics:\n",
        "\n",
        "**Classification Accuracy:**\n",
        "\n",
        "This is the simplest and most intuitive metric, representing the percentage of correctly classified instances out of the total.\n",
        "\n",
        "Top-k Accuracy: Instead of considering only the top predicted class, this metric takes into account the top-k predicted classes and checks if the true class label is within those k predictions.\n",
        "\n",
        "Precision, Recall, and F1-score: These metrics are commonly used when dealing with imbalanced datasets or when the focus is on a specific class. Precision measures the proportion of true positives out of the predicted positives, recall measures the proportion of true positives out of the actual positives, and F1-score is the harmonic mean of precision and recall.\n",
        "\n",
        "These metrics are typically calculated during the training process to monitor the model's performance and make necessary adjustments. They help to evaluate the loss (how well the model is fitting the training data) and accuracy (how well the model is generalizing to unseen data) of the CNN classification model."
      ],
      "metadata": {
        "id": "Zu1mv5JfxVxS"
      }
    },
    {
      "cell_type": "markdown",
      "source": [
        "To evaluate the performance of K-means clustering, several metrics can be used. Here's an example Python code that demonstrates how to evaluate K-means clustering using three common metrics: silhouette score and inertia.\n",
        "\n",
        "Incase of Text Clustering, we have following evaluation metrics as below:"
      ],
      "metadata": {
        "id": "QLnz4mpdZc28"
      }
    },
    {
      "cell_type": "code",
      "source": [
        "from sklearn.cluster import KMeans\n",
        "from sklearn import metrics\n",
        "import numpy as np\n",
        "\n",
        "# New Section\n",
        "\n",
        "# Assuming you have sentence_matrix from previous steps\n",
        "\n",
        "# Specify the number of clusters\n",
        "num_clusters = 5\n",
        "\n",
        "# Perform K-means clustering\n",
        "kmeans = KMeans(n_clusters=num_clusters, random_state=42)\n",
        "kmeans.fit(sentence_matrix)\n",
        "\n",
        "# Get the cluster labels for each sentence\n",
        "labels = kmeans.labels_\n",
        "\n",
        "# Silhouette score\n",
        "silhouette_avg = metrics.silhouette_score(sentence_matrix, labels)\n",
        "print(\"Silhouette Score:\", silhouette_avg)\n",
        "\n",
        "# Inertia\n",
        "inertia = kmeans.inertia_\n",
        "print(\"Inertia:\", inertia)\n"
      ],
      "metadata": {
        "colab": {
          "base_uri": "https://localhost:8080/"
        },
        "id": "OealsKhDVDuG",
        "outputId": "211080dc-5961-4333-d21d-954a60035712"
      },
      "execution_count": 25,
      "outputs": [
        {
          "output_type": "stream",
          "name": "stderr",
          "text": [
            "/usr/local/lib/python3.10/dist-packages/sklearn/cluster/_kmeans.py:870: FutureWarning: The default value of `n_init` will change from 10 to 'auto' in 1.4. Set the value of `n_init` explicitly to suppress the warning\n",
            "  warnings.warn(\n"
          ]
        },
        {
          "output_type": "stream",
          "name": "stdout",
          "text": [
            "Silhouette Score: 0.16530924\n",
            "Inertia: 20440.0390625\n"
          ]
        }
      ]
    },
    {
      "cell_type": "markdown",
      "source": [
        "Silhouette Score: Measures how close each sample in one cluster is to the samples in the neighboring clusters. A higher silhouette score indicates better-defined clusters.\n",
        "\n",
        "Inertia: The sum of squared distances of samples to their closest cluster center. Lower inertia values indicate better clustering.\n",
        "\n",
        "\n"
      ],
      "metadata": {
        "id": "HYu9CdRhZMHD"
      }
    },
    {
      "cell_type": "markdown",
      "metadata": {
        "id": "xR9kD2sTMtzS"
      },
      "source": [
        "## 5. Part 5: Model Improvement Discussion (20 Points)**\n",
        "\n",
        "Comprehensive discussion on potential improvements, including handling unbalanced data, dealing with slang, abbreviations or typos, and addressing context and word disambiguation challenges\n",
        "\n",
        "Improving a text classification model involves addressing various challenges such as handling unbalanced data, dealing with slang, abbreviations or typos, and addressing context and word disambiguation challenges. Here are some potential improvements for each of these aspects:\n",
        "\n",
        "To further improve the CNN model for text classification using the provided 20 Newsgroups dataset, there are several potential improvements to consider. Let's discuss handling unbalanced data, dealing with slang/abbreviations/typos, and addressing context and word disambiguation challenges.\n",
        "\n",
        "**Handling Unbalanced Data**\n",
        "\n",
        "The 20 Newsgroups dataset may have class imbalances, where certain categories have significantly more instances than others. To address this, you can employ techniques such as:\n",
        "\n",
        "Oversampling: Increase the representation of minority classes by duplicating or generating synthetic samples to balance the class distribution.\n",
        "\n",
        "Undersampling: Reduce the representation of the majority class by randomly removing instances to achieve a balanced dataset.\n",
        "\n",
        "Class weighting: Assign higher weights to the minority classes during training to prioritize their importance and adjust for the class imbalance.\n",
        "\n",
        "**Dealing with Slang, Abbreviations, and Typos**:\n",
        "\n",
        "The 20 Newsgroups dataset contains informal language, slang, abbreviations, and potential typos. To handle these challenges, you can consider the following approaches:\n",
        "\n",
        "Preprocessing: Apply text normalization techniques like expanding contractions (e.g., \"can't\" to \"cannot\"), converting slang/abbreviations to their full forms (e.g., \"lol\" to \"laugh out loud\"), and correcting common typos.\n",
        "\n",
        "Custom Word Embeddings: Train word embeddings specifically on the dataset, or utilize domain-specific pre-trained embeddings. These embeddings can capture the specific language patterns, including slang and abbreviations, improving the model's understanding of the data.\n",
        "\n",
        "**Addressing Context and Word Disambiguation Challenges**:\n",
        "\n",
        "The 20 Newsgroups dataset contains instances where words can have multiple meanings or require contextual understanding. Here are some strategies to address context and word disambiguation challenges:\n",
        "\n",
        "Contextual Word Embeddings: Instead of using static word embeddings like GloVe, consider employing contextual word embeddings such as ELMo, GPT, or BERT. These models capture contextual information and can provide better representations for words based on their surrounding context.\n",
        "\n",
        "Contextual Awareness in Architecture: Modify the CNN model to incorporate attention mechanisms or recurrent layers (e.g., LSTM or GRU) to capture and remember contextual information across the input text. These modifications can help the model better disambiguate words and understand their meanings in different contexts.\n",
        "\n",
        "Named Entity Recognition (NER): Use NER techniques to identify and classify named entities in the text, as they can often carry important semantic information. This additional information can enhance the model's understanding of the context and improve classification accuracy.\n",
        "\n",
        "It's important to note that the success of these improvements depends on the specific characteristics of the dataset and the complexity of the text classification task. Therefore, it's recommended to experiment with different techniques, evaluate their impact through proper validation methods, and iterate on the model and preprocessing steps to achieve the best results."
      ]
    }
  ],
  "metadata": {
    "colab": {
      "provenance": []
    },
    "kernelspec": {
      "display_name": "Python 3 (ipykernel)",
      "language": "python",
      "name": "python3"
    },
    "language_info": {
      "codemirror_mode": {
        "name": "ipython",
        "version": 3
      },
      "file_extension": ".py",
      "mimetype": "text/x-python",
      "name": "python",
      "nbconvert_exporter": "python",
      "pygments_lexer": "ipython3",
      "version": "3.10.9"
    },
    "widgets": {
      "application/vnd.jupyter.widget-state+json": {
        "4db5aa67dc6a45cb843139e33dd8406a": {
          "model_module": "@jupyter-widgets/controls",
          "model_name": "HBoxModel",
          "model_module_version": "1.5.0",
          "state": {
            "_dom_classes": [],
            "_model_module": "@jupyter-widgets/controls",
            "_model_module_version": "1.5.0",
            "_model_name": "HBoxModel",
            "_view_count": null,
            "_view_module": "@jupyter-widgets/controls",
            "_view_module_version": "1.5.0",
            "_view_name": "HBoxView",
            "box_style": "",
            "children": [
              "IPY_MODEL_4454cfe5c6164d7ea000f85883557eb0",
              "IPY_MODEL_a2b7d5e07bb84d299444a18c59fee6cd",
              "IPY_MODEL_39a65eed86c947d084322055dbe084d5"
            ],
            "layout": "IPY_MODEL_b3d3a1a9cf8644a0a877e8ca311c99fc"
          }
        },
        "4454cfe5c6164d7ea000f85883557eb0": {
          "model_module": "@jupyter-widgets/controls",
          "model_name": "HTMLModel",
          "model_module_version": "1.5.0",
          "state": {
            "_dom_classes": [],
            "_model_module": "@jupyter-widgets/controls",
            "_model_module_version": "1.5.0",
            "_model_name": "HTMLModel",
            "_view_count": null,
            "_view_module": "@jupyter-widgets/controls",
            "_view_module_version": "1.5.0",
            "_view_name": "HTMLView",
            "description": "",
            "description_tooltip": null,
            "layout": "IPY_MODEL_32d082c02bcc477790593a5370b68786",
            "placeholder": "​",
            "style": "IPY_MODEL_39e9746e35154c33bfeebc4dbddd37dd",
            "value": "Downloading (…)solve/main/vocab.txt: 100%"
          }
        },
        "a2b7d5e07bb84d299444a18c59fee6cd": {
          "model_module": "@jupyter-widgets/controls",
          "model_name": "FloatProgressModel",
          "model_module_version": "1.5.0",
          "state": {
            "_dom_classes": [],
            "_model_module": "@jupyter-widgets/controls",
            "_model_module_version": "1.5.0",
            "_model_name": "FloatProgressModel",
            "_view_count": null,
            "_view_module": "@jupyter-widgets/controls",
            "_view_module_version": "1.5.0",
            "_view_name": "ProgressView",
            "bar_style": "success",
            "description": "",
            "description_tooltip": null,
            "layout": "IPY_MODEL_c85cb1e2f3d04e9e9ab72b89c49fdd8c",
            "max": 231508,
            "min": 0,
            "orientation": "horizontal",
            "style": "IPY_MODEL_35c393be68074aff8d99f42eed62b1f7",
            "value": 231508
          }
        },
        "39a65eed86c947d084322055dbe084d5": {
          "model_module": "@jupyter-widgets/controls",
          "model_name": "HTMLModel",
          "model_module_version": "1.5.0",
          "state": {
            "_dom_classes": [],
            "_model_module": "@jupyter-widgets/controls",
            "_model_module_version": "1.5.0",
            "_model_name": "HTMLModel",
            "_view_count": null,
            "_view_module": "@jupyter-widgets/controls",
            "_view_module_version": "1.5.0",
            "_view_name": "HTMLView",
            "description": "",
            "description_tooltip": null,
            "layout": "IPY_MODEL_4e1fa043602b40bc884da1cdbb4e5796",
            "placeholder": "​",
            "style": "IPY_MODEL_d31296f682554d078fd20da5c760c46a",
            "value": " 232k/232k [00:00&lt;00:00, 2.47MB/s]"
          }
        },
        "b3d3a1a9cf8644a0a877e8ca311c99fc": {
          "model_module": "@jupyter-widgets/base",
          "model_name": "LayoutModel",
          "model_module_version": "1.2.0",
          "state": {
            "_model_module": "@jupyter-widgets/base",
            "_model_module_version": "1.2.0",
            "_model_name": "LayoutModel",
            "_view_count": null,
            "_view_module": "@jupyter-widgets/base",
            "_view_module_version": "1.2.0",
            "_view_name": "LayoutView",
            "align_content": null,
            "align_items": null,
            "align_self": null,
            "border": null,
            "bottom": null,
            "display": null,
            "flex": null,
            "flex_flow": null,
            "grid_area": null,
            "grid_auto_columns": null,
            "grid_auto_flow": null,
            "grid_auto_rows": null,
            "grid_column": null,
            "grid_gap": null,
            "grid_row": null,
            "grid_template_areas": null,
            "grid_template_columns": null,
            "grid_template_rows": null,
            "height": null,
            "justify_content": null,
            "justify_items": null,
            "left": null,
            "margin": null,
            "max_height": null,
            "max_width": null,
            "min_height": null,
            "min_width": null,
            "object_fit": null,
            "object_position": null,
            "order": null,
            "overflow": null,
            "overflow_x": null,
            "overflow_y": null,
            "padding": null,
            "right": null,
            "top": null,
            "visibility": null,
            "width": null
          }
        },
        "32d082c02bcc477790593a5370b68786": {
          "model_module": "@jupyter-widgets/base",
          "model_name": "LayoutModel",
          "model_module_version": "1.2.0",
          "state": {
            "_model_module": "@jupyter-widgets/base",
            "_model_module_version": "1.2.0",
            "_model_name": "LayoutModel",
            "_view_count": null,
            "_view_module": "@jupyter-widgets/base",
            "_view_module_version": "1.2.0",
            "_view_name": "LayoutView",
            "align_content": null,
            "align_items": null,
            "align_self": null,
            "border": null,
            "bottom": null,
            "display": null,
            "flex": null,
            "flex_flow": null,
            "grid_area": null,
            "grid_auto_columns": null,
            "grid_auto_flow": null,
            "grid_auto_rows": null,
            "grid_column": null,
            "grid_gap": null,
            "grid_row": null,
            "grid_template_areas": null,
            "grid_template_columns": null,
            "grid_template_rows": null,
            "height": null,
            "justify_content": null,
            "justify_items": null,
            "left": null,
            "margin": null,
            "max_height": null,
            "max_width": null,
            "min_height": null,
            "min_width": null,
            "object_fit": null,
            "object_position": null,
            "order": null,
            "overflow": null,
            "overflow_x": null,
            "overflow_y": null,
            "padding": null,
            "right": null,
            "top": null,
            "visibility": null,
            "width": null
          }
        },
        "39e9746e35154c33bfeebc4dbddd37dd": {
          "model_module": "@jupyter-widgets/controls",
          "model_name": "DescriptionStyleModel",
          "model_module_version": "1.5.0",
          "state": {
            "_model_module": "@jupyter-widgets/controls",
            "_model_module_version": "1.5.0",
            "_model_name": "DescriptionStyleModel",
            "_view_count": null,
            "_view_module": "@jupyter-widgets/base",
            "_view_module_version": "1.2.0",
            "_view_name": "StyleView",
            "description_width": ""
          }
        },
        "c85cb1e2f3d04e9e9ab72b89c49fdd8c": {
          "model_module": "@jupyter-widgets/base",
          "model_name": "LayoutModel",
          "model_module_version": "1.2.0",
          "state": {
            "_model_module": "@jupyter-widgets/base",
            "_model_module_version": "1.2.0",
            "_model_name": "LayoutModel",
            "_view_count": null,
            "_view_module": "@jupyter-widgets/base",
            "_view_module_version": "1.2.0",
            "_view_name": "LayoutView",
            "align_content": null,
            "align_items": null,
            "align_self": null,
            "border": null,
            "bottom": null,
            "display": null,
            "flex": null,
            "flex_flow": null,
            "grid_area": null,
            "grid_auto_columns": null,
            "grid_auto_flow": null,
            "grid_auto_rows": null,
            "grid_column": null,
            "grid_gap": null,
            "grid_row": null,
            "grid_template_areas": null,
            "grid_template_columns": null,
            "grid_template_rows": null,
            "height": null,
            "justify_content": null,
            "justify_items": null,
            "left": null,
            "margin": null,
            "max_height": null,
            "max_width": null,
            "min_height": null,
            "min_width": null,
            "object_fit": null,
            "object_position": null,
            "order": null,
            "overflow": null,
            "overflow_x": null,
            "overflow_y": null,
            "padding": null,
            "right": null,
            "top": null,
            "visibility": null,
            "width": null
          }
        },
        "35c393be68074aff8d99f42eed62b1f7": {
          "model_module": "@jupyter-widgets/controls",
          "model_name": "ProgressStyleModel",
          "model_module_version": "1.5.0",
          "state": {
            "_model_module": "@jupyter-widgets/controls",
            "_model_module_version": "1.5.0",
            "_model_name": "ProgressStyleModel",
            "_view_count": null,
            "_view_module": "@jupyter-widgets/base",
            "_view_module_version": "1.2.0",
            "_view_name": "StyleView",
            "bar_color": null,
            "description_width": ""
          }
        },
        "4e1fa043602b40bc884da1cdbb4e5796": {
          "model_module": "@jupyter-widgets/base",
          "model_name": "LayoutModel",
          "model_module_version": "1.2.0",
          "state": {
            "_model_module": "@jupyter-widgets/base",
            "_model_module_version": "1.2.0",
            "_model_name": "LayoutModel",
            "_view_count": null,
            "_view_module": "@jupyter-widgets/base",
            "_view_module_version": "1.2.0",
            "_view_name": "LayoutView",
            "align_content": null,
            "align_items": null,
            "align_self": null,
            "border": null,
            "bottom": null,
            "display": null,
            "flex": null,
            "flex_flow": null,
            "grid_area": null,
            "grid_auto_columns": null,
            "grid_auto_flow": null,
            "grid_auto_rows": null,
            "grid_column": null,
            "grid_gap": null,
            "grid_row": null,
            "grid_template_areas": null,
            "grid_template_columns": null,
            "grid_template_rows": null,
            "height": null,
            "justify_content": null,
            "justify_items": null,
            "left": null,
            "margin": null,
            "max_height": null,
            "max_width": null,
            "min_height": null,
            "min_width": null,
            "object_fit": null,
            "object_position": null,
            "order": null,
            "overflow": null,
            "overflow_x": null,
            "overflow_y": null,
            "padding": null,
            "right": null,
            "top": null,
            "visibility": null,
            "width": null
          }
        },
        "d31296f682554d078fd20da5c760c46a": {
          "model_module": "@jupyter-widgets/controls",
          "model_name": "DescriptionStyleModel",
          "model_module_version": "1.5.0",
          "state": {
            "_model_module": "@jupyter-widgets/controls",
            "_model_module_version": "1.5.0",
            "_model_name": "DescriptionStyleModel",
            "_view_count": null,
            "_view_module": "@jupyter-widgets/base",
            "_view_module_version": "1.2.0",
            "_view_name": "StyleView",
            "description_width": ""
          }
        },
        "294643fc7aed41b786a31227aa1580e3": {
          "model_module": "@jupyter-widgets/controls",
          "model_name": "HBoxModel",
          "model_module_version": "1.5.0",
          "state": {
            "_dom_classes": [],
            "_model_module": "@jupyter-widgets/controls",
            "_model_module_version": "1.5.0",
            "_model_name": "HBoxModel",
            "_view_count": null,
            "_view_module": "@jupyter-widgets/controls",
            "_view_module_version": "1.5.0",
            "_view_name": "HBoxView",
            "box_style": "",
            "children": [
              "IPY_MODEL_6a6518700ca2492f99d7c4eb3611b195",
              "IPY_MODEL_f00592d20c2348e0be1c09fb0c3b1023",
              "IPY_MODEL_20419f2b9bc24b5995e08e12e89f9477"
            ],
            "layout": "IPY_MODEL_0b6bf42196b84b158a07951c60296631"
          }
        },
        "6a6518700ca2492f99d7c4eb3611b195": {
          "model_module": "@jupyter-widgets/controls",
          "model_name": "HTMLModel",
          "model_module_version": "1.5.0",
          "state": {
            "_dom_classes": [],
            "_model_module": "@jupyter-widgets/controls",
            "_model_module_version": "1.5.0",
            "_model_name": "HTMLModel",
            "_view_count": null,
            "_view_module": "@jupyter-widgets/controls",
            "_view_module_version": "1.5.0",
            "_view_name": "HTMLView",
            "description": "",
            "description_tooltip": null,
            "layout": "IPY_MODEL_f37454612aff4b1f819247b358906831",
            "placeholder": "​",
            "style": "IPY_MODEL_5dc39909b0d34709b74a82a7305fc71e",
            "value": "Downloading (…)okenizer_config.json: 100%"
          }
        },
        "f00592d20c2348e0be1c09fb0c3b1023": {
          "model_module": "@jupyter-widgets/controls",
          "model_name": "FloatProgressModel",
          "model_module_version": "1.5.0",
          "state": {
            "_dom_classes": [],
            "_model_module": "@jupyter-widgets/controls",
            "_model_module_version": "1.5.0",
            "_model_name": "FloatProgressModel",
            "_view_count": null,
            "_view_module": "@jupyter-widgets/controls",
            "_view_module_version": "1.5.0",
            "_view_name": "ProgressView",
            "bar_style": "success",
            "description": "",
            "description_tooltip": null,
            "layout": "IPY_MODEL_fb881759b69d458eaa305a838ab1104b",
            "max": 28,
            "min": 0,
            "orientation": "horizontal",
            "style": "IPY_MODEL_826ca1aa95a44f4ba540b690a7fb59be",
            "value": 28
          }
        },
        "20419f2b9bc24b5995e08e12e89f9477": {
          "model_module": "@jupyter-widgets/controls",
          "model_name": "HTMLModel",
          "model_module_version": "1.5.0",
          "state": {
            "_dom_classes": [],
            "_model_module": "@jupyter-widgets/controls",
            "_model_module_version": "1.5.0",
            "_model_name": "HTMLModel",
            "_view_count": null,
            "_view_module": "@jupyter-widgets/controls",
            "_view_module_version": "1.5.0",
            "_view_name": "HTMLView",
            "description": "",
            "description_tooltip": null,
            "layout": "IPY_MODEL_5c9c9aae6c444e0dbb9438705e41e203",
            "placeholder": "​",
            "style": "IPY_MODEL_d3e291d0f16f4af6b1cf12470b07fb84",
            "value": " 28.0/28.0 [00:00&lt;00:00, 203B/s]"
          }
        },
        "0b6bf42196b84b158a07951c60296631": {
          "model_module": "@jupyter-widgets/base",
          "model_name": "LayoutModel",
          "model_module_version": "1.2.0",
          "state": {
            "_model_module": "@jupyter-widgets/base",
            "_model_module_version": "1.2.0",
            "_model_name": "LayoutModel",
            "_view_count": null,
            "_view_module": "@jupyter-widgets/base",
            "_view_module_version": "1.2.0",
            "_view_name": "LayoutView",
            "align_content": null,
            "align_items": null,
            "align_self": null,
            "border": null,
            "bottom": null,
            "display": null,
            "flex": null,
            "flex_flow": null,
            "grid_area": null,
            "grid_auto_columns": null,
            "grid_auto_flow": null,
            "grid_auto_rows": null,
            "grid_column": null,
            "grid_gap": null,
            "grid_row": null,
            "grid_template_areas": null,
            "grid_template_columns": null,
            "grid_template_rows": null,
            "height": null,
            "justify_content": null,
            "justify_items": null,
            "left": null,
            "margin": null,
            "max_height": null,
            "max_width": null,
            "min_height": null,
            "min_width": null,
            "object_fit": null,
            "object_position": null,
            "order": null,
            "overflow": null,
            "overflow_x": null,
            "overflow_y": null,
            "padding": null,
            "right": null,
            "top": null,
            "visibility": null,
            "width": null
          }
        },
        "f37454612aff4b1f819247b358906831": {
          "model_module": "@jupyter-widgets/base",
          "model_name": "LayoutModel",
          "model_module_version": "1.2.0",
          "state": {
            "_model_module": "@jupyter-widgets/base",
            "_model_module_version": "1.2.0",
            "_model_name": "LayoutModel",
            "_view_count": null,
            "_view_module": "@jupyter-widgets/base",
            "_view_module_version": "1.2.0",
            "_view_name": "LayoutView",
            "align_content": null,
            "align_items": null,
            "align_self": null,
            "border": null,
            "bottom": null,
            "display": null,
            "flex": null,
            "flex_flow": null,
            "grid_area": null,
            "grid_auto_columns": null,
            "grid_auto_flow": null,
            "grid_auto_rows": null,
            "grid_column": null,
            "grid_gap": null,
            "grid_row": null,
            "grid_template_areas": null,
            "grid_template_columns": null,
            "grid_template_rows": null,
            "height": null,
            "justify_content": null,
            "justify_items": null,
            "left": null,
            "margin": null,
            "max_height": null,
            "max_width": null,
            "min_height": null,
            "min_width": null,
            "object_fit": null,
            "object_position": null,
            "order": null,
            "overflow": null,
            "overflow_x": null,
            "overflow_y": null,
            "padding": null,
            "right": null,
            "top": null,
            "visibility": null,
            "width": null
          }
        },
        "5dc39909b0d34709b74a82a7305fc71e": {
          "model_module": "@jupyter-widgets/controls",
          "model_name": "DescriptionStyleModel",
          "model_module_version": "1.5.0",
          "state": {
            "_model_module": "@jupyter-widgets/controls",
            "_model_module_version": "1.5.0",
            "_model_name": "DescriptionStyleModel",
            "_view_count": null,
            "_view_module": "@jupyter-widgets/base",
            "_view_module_version": "1.2.0",
            "_view_name": "StyleView",
            "description_width": ""
          }
        },
        "fb881759b69d458eaa305a838ab1104b": {
          "model_module": "@jupyter-widgets/base",
          "model_name": "LayoutModel",
          "model_module_version": "1.2.0",
          "state": {
            "_model_module": "@jupyter-widgets/base",
            "_model_module_version": "1.2.0",
            "_model_name": "LayoutModel",
            "_view_count": null,
            "_view_module": "@jupyter-widgets/base",
            "_view_module_version": "1.2.0",
            "_view_name": "LayoutView",
            "align_content": null,
            "align_items": null,
            "align_self": null,
            "border": null,
            "bottom": null,
            "display": null,
            "flex": null,
            "flex_flow": null,
            "grid_area": null,
            "grid_auto_columns": null,
            "grid_auto_flow": null,
            "grid_auto_rows": null,
            "grid_column": null,
            "grid_gap": null,
            "grid_row": null,
            "grid_template_areas": null,
            "grid_template_columns": null,
            "grid_template_rows": null,
            "height": null,
            "justify_content": null,
            "justify_items": null,
            "left": null,
            "margin": null,
            "max_height": null,
            "max_width": null,
            "min_height": null,
            "min_width": null,
            "object_fit": null,
            "object_position": null,
            "order": null,
            "overflow": null,
            "overflow_x": null,
            "overflow_y": null,
            "padding": null,
            "right": null,
            "top": null,
            "visibility": null,
            "width": null
          }
        },
        "826ca1aa95a44f4ba540b690a7fb59be": {
          "model_module": "@jupyter-widgets/controls",
          "model_name": "ProgressStyleModel",
          "model_module_version": "1.5.0",
          "state": {
            "_model_module": "@jupyter-widgets/controls",
            "_model_module_version": "1.5.0",
            "_model_name": "ProgressStyleModel",
            "_view_count": null,
            "_view_module": "@jupyter-widgets/base",
            "_view_module_version": "1.2.0",
            "_view_name": "StyleView",
            "bar_color": null,
            "description_width": ""
          }
        },
        "5c9c9aae6c444e0dbb9438705e41e203": {
          "model_module": "@jupyter-widgets/base",
          "model_name": "LayoutModel",
          "model_module_version": "1.2.0",
          "state": {
            "_model_module": "@jupyter-widgets/base",
            "_model_module_version": "1.2.0",
            "_model_name": "LayoutModel",
            "_view_count": null,
            "_view_module": "@jupyter-widgets/base",
            "_view_module_version": "1.2.0",
            "_view_name": "LayoutView",
            "align_content": null,
            "align_items": null,
            "align_self": null,
            "border": null,
            "bottom": null,
            "display": null,
            "flex": null,
            "flex_flow": null,
            "grid_area": null,
            "grid_auto_columns": null,
            "grid_auto_flow": null,
            "grid_auto_rows": null,
            "grid_column": null,
            "grid_gap": null,
            "grid_row": null,
            "grid_template_areas": null,
            "grid_template_columns": null,
            "grid_template_rows": null,
            "height": null,
            "justify_content": null,
            "justify_items": null,
            "left": null,
            "margin": null,
            "max_height": null,
            "max_width": null,
            "min_height": null,
            "min_width": null,
            "object_fit": null,
            "object_position": null,
            "order": null,
            "overflow": null,
            "overflow_x": null,
            "overflow_y": null,
            "padding": null,
            "right": null,
            "top": null,
            "visibility": null,
            "width": null
          }
        },
        "d3e291d0f16f4af6b1cf12470b07fb84": {
          "model_module": "@jupyter-widgets/controls",
          "model_name": "DescriptionStyleModel",
          "model_module_version": "1.5.0",
          "state": {
            "_model_module": "@jupyter-widgets/controls",
            "_model_module_version": "1.5.0",
            "_model_name": "DescriptionStyleModel",
            "_view_count": null,
            "_view_module": "@jupyter-widgets/base",
            "_view_module_version": "1.2.0",
            "_view_name": "StyleView",
            "description_width": ""
          }
        },
        "f2ee25937d0c4346935cea89e380044a": {
          "model_module": "@jupyter-widgets/controls",
          "model_name": "HBoxModel",
          "model_module_version": "1.5.0",
          "state": {
            "_dom_classes": [],
            "_model_module": "@jupyter-widgets/controls",
            "_model_module_version": "1.5.0",
            "_model_name": "HBoxModel",
            "_view_count": null,
            "_view_module": "@jupyter-widgets/controls",
            "_view_module_version": "1.5.0",
            "_view_name": "HBoxView",
            "box_style": "",
            "children": [
              "IPY_MODEL_60b3fd7e7a85468e8a1fca6cb005f167",
              "IPY_MODEL_d62abb6a18944db699a69729a4d0c99b",
              "IPY_MODEL_050d1f775d944e2e9f40d497ab26f16f"
            ],
            "layout": "IPY_MODEL_517b4fdab9d74090a4d563fd7e98d66d"
          }
        },
        "60b3fd7e7a85468e8a1fca6cb005f167": {
          "model_module": "@jupyter-widgets/controls",
          "model_name": "HTMLModel",
          "model_module_version": "1.5.0",
          "state": {
            "_dom_classes": [],
            "_model_module": "@jupyter-widgets/controls",
            "_model_module_version": "1.5.0",
            "_model_name": "HTMLModel",
            "_view_count": null,
            "_view_module": "@jupyter-widgets/controls",
            "_view_module_version": "1.5.0",
            "_view_name": "HTMLView",
            "description": "",
            "description_tooltip": null,
            "layout": "IPY_MODEL_4dc11a47758544b6a06348ad84a9912e",
            "placeholder": "​",
            "style": "IPY_MODEL_8b96d9c27c1949238665e5a14b408256",
            "value": "Downloading (…)lve/main/config.json: 100%"
          }
        },
        "d62abb6a18944db699a69729a4d0c99b": {
          "model_module": "@jupyter-widgets/controls",
          "model_name": "FloatProgressModel",
          "model_module_version": "1.5.0",
          "state": {
            "_dom_classes": [],
            "_model_module": "@jupyter-widgets/controls",
            "_model_module_version": "1.5.0",
            "_model_name": "FloatProgressModel",
            "_view_count": null,
            "_view_module": "@jupyter-widgets/controls",
            "_view_module_version": "1.5.0",
            "_view_name": "ProgressView",
            "bar_style": "success",
            "description": "",
            "description_tooltip": null,
            "layout": "IPY_MODEL_35201c6719b34a75bffffc96e8c79788",
            "max": 570,
            "min": 0,
            "orientation": "horizontal",
            "style": "IPY_MODEL_04c83f01672a4ee5bffa56cdc63dd50b",
            "value": 570
          }
        },
        "050d1f775d944e2e9f40d497ab26f16f": {
          "model_module": "@jupyter-widgets/controls",
          "model_name": "HTMLModel",
          "model_module_version": "1.5.0",
          "state": {
            "_dom_classes": [],
            "_model_module": "@jupyter-widgets/controls",
            "_model_module_version": "1.5.0",
            "_model_name": "HTMLModel",
            "_view_count": null,
            "_view_module": "@jupyter-widgets/controls",
            "_view_module_version": "1.5.0",
            "_view_name": "HTMLView",
            "description": "",
            "description_tooltip": null,
            "layout": "IPY_MODEL_99125266461647d6837c1e2d228702b4",
            "placeholder": "​",
            "style": "IPY_MODEL_ddfa049e9a4c42c8b83030ab8d6120b6",
            "value": " 570/570 [00:00&lt;00:00, 7.91kB/s]"
          }
        },
        "517b4fdab9d74090a4d563fd7e98d66d": {
          "model_module": "@jupyter-widgets/base",
          "model_name": "LayoutModel",
          "model_module_version": "1.2.0",
          "state": {
            "_model_module": "@jupyter-widgets/base",
            "_model_module_version": "1.2.0",
            "_model_name": "LayoutModel",
            "_view_count": null,
            "_view_module": "@jupyter-widgets/base",
            "_view_module_version": "1.2.0",
            "_view_name": "LayoutView",
            "align_content": null,
            "align_items": null,
            "align_self": null,
            "border": null,
            "bottom": null,
            "display": null,
            "flex": null,
            "flex_flow": null,
            "grid_area": null,
            "grid_auto_columns": null,
            "grid_auto_flow": null,
            "grid_auto_rows": null,
            "grid_column": null,
            "grid_gap": null,
            "grid_row": null,
            "grid_template_areas": null,
            "grid_template_columns": null,
            "grid_template_rows": null,
            "height": null,
            "justify_content": null,
            "justify_items": null,
            "left": null,
            "margin": null,
            "max_height": null,
            "max_width": null,
            "min_height": null,
            "min_width": null,
            "object_fit": null,
            "object_position": null,
            "order": null,
            "overflow": null,
            "overflow_x": null,
            "overflow_y": null,
            "padding": null,
            "right": null,
            "top": null,
            "visibility": null,
            "width": null
          }
        },
        "4dc11a47758544b6a06348ad84a9912e": {
          "model_module": "@jupyter-widgets/base",
          "model_name": "LayoutModel",
          "model_module_version": "1.2.0",
          "state": {
            "_model_module": "@jupyter-widgets/base",
            "_model_module_version": "1.2.0",
            "_model_name": "LayoutModel",
            "_view_count": null,
            "_view_module": "@jupyter-widgets/base",
            "_view_module_version": "1.2.0",
            "_view_name": "LayoutView",
            "align_content": null,
            "align_items": null,
            "align_self": null,
            "border": null,
            "bottom": null,
            "display": null,
            "flex": null,
            "flex_flow": null,
            "grid_area": null,
            "grid_auto_columns": null,
            "grid_auto_flow": null,
            "grid_auto_rows": null,
            "grid_column": null,
            "grid_gap": null,
            "grid_row": null,
            "grid_template_areas": null,
            "grid_template_columns": null,
            "grid_template_rows": null,
            "height": null,
            "justify_content": null,
            "justify_items": null,
            "left": null,
            "margin": null,
            "max_height": null,
            "max_width": null,
            "min_height": null,
            "min_width": null,
            "object_fit": null,
            "object_position": null,
            "order": null,
            "overflow": null,
            "overflow_x": null,
            "overflow_y": null,
            "padding": null,
            "right": null,
            "top": null,
            "visibility": null,
            "width": null
          }
        },
        "8b96d9c27c1949238665e5a14b408256": {
          "model_module": "@jupyter-widgets/controls",
          "model_name": "DescriptionStyleModel",
          "model_module_version": "1.5.0",
          "state": {
            "_model_module": "@jupyter-widgets/controls",
            "_model_module_version": "1.5.0",
            "_model_name": "DescriptionStyleModel",
            "_view_count": null,
            "_view_module": "@jupyter-widgets/base",
            "_view_module_version": "1.2.0",
            "_view_name": "StyleView",
            "description_width": ""
          }
        },
        "35201c6719b34a75bffffc96e8c79788": {
          "model_module": "@jupyter-widgets/base",
          "model_name": "LayoutModel",
          "model_module_version": "1.2.0",
          "state": {
            "_model_module": "@jupyter-widgets/base",
            "_model_module_version": "1.2.0",
            "_model_name": "LayoutModel",
            "_view_count": null,
            "_view_module": "@jupyter-widgets/base",
            "_view_module_version": "1.2.0",
            "_view_name": "LayoutView",
            "align_content": null,
            "align_items": null,
            "align_self": null,
            "border": null,
            "bottom": null,
            "display": null,
            "flex": null,
            "flex_flow": null,
            "grid_area": null,
            "grid_auto_columns": null,
            "grid_auto_flow": null,
            "grid_auto_rows": null,
            "grid_column": null,
            "grid_gap": null,
            "grid_row": null,
            "grid_template_areas": null,
            "grid_template_columns": null,
            "grid_template_rows": null,
            "height": null,
            "justify_content": null,
            "justify_items": null,
            "left": null,
            "margin": null,
            "max_height": null,
            "max_width": null,
            "min_height": null,
            "min_width": null,
            "object_fit": null,
            "object_position": null,
            "order": null,
            "overflow": null,
            "overflow_x": null,
            "overflow_y": null,
            "padding": null,
            "right": null,
            "top": null,
            "visibility": null,
            "width": null
          }
        },
        "04c83f01672a4ee5bffa56cdc63dd50b": {
          "model_module": "@jupyter-widgets/controls",
          "model_name": "ProgressStyleModel",
          "model_module_version": "1.5.0",
          "state": {
            "_model_module": "@jupyter-widgets/controls",
            "_model_module_version": "1.5.0",
            "_model_name": "ProgressStyleModel",
            "_view_count": null,
            "_view_module": "@jupyter-widgets/base",
            "_view_module_version": "1.2.0",
            "_view_name": "StyleView",
            "bar_color": null,
            "description_width": ""
          }
        },
        "99125266461647d6837c1e2d228702b4": {
          "model_module": "@jupyter-widgets/base",
          "model_name": "LayoutModel",
          "model_module_version": "1.2.0",
          "state": {
            "_model_module": "@jupyter-widgets/base",
            "_model_module_version": "1.2.0",
            "_model_name": "LayoutModel",
            "_view_count": null,
            "_view_module": "@jupyter-widgets/base",
            "_view_module_version": "1.2.0",
            "_view_name": "LayoutView",
            "align_content": null,
            "align_items": null,
            "align_self": null,
            "border": null,
            "bottom": null,
            "display": null,
            "flex": null,
            "flex_flow": null,
            "grid_area": null,
            "grid_auto_columns": null,
            "grid_auto_flow": null,
            "grid_auto_rows": null,
            "grid_column": null,
            "grid_gap": null,
            "grid_row": null,
            "grid_template_areas": null,
            "grid_template_columns": null,
            "grid_template_rows": null,
            "height": null,
            "justify_content": null,
            "justify_items": null,
            "left": null,
            "margin": null,
            "max_height": null,
            "max_width": null,
            "min_height": null,
            "min_width": null,
            "object_fit": null,
            "object_position": null,
            "order": null,
            "overflow": null,
            "overflow_x": null,
            "overflow_y": null,
            "padding": null,
            "right": null,
            "top": null,
            "visibility": null,
            "width": null
          }
        },
        "ddfa049e9a4c42c8b83030ab8d6120b6": {
          "model_module": "@jupyter-widgets/controls",
          "model_name": "DescriptionStyleModel",
          "model_module_version": "1.5.0",
          "state": {
            "_model_module": "@jupyter-widgets/controls",
            "_model_module_version": "1.5.0",
            "_model_name": "DescriptionStyleModel",
            "_view_count": null,
            "_view_module": "@jupyter-widgets/base",
            "_view_module_version": "1.2.0",
            "_view_name": "StyleView",
            "description_width": ""
          }
        },
        "07c8a3c468a342d6a9e0cf3660bb7941": {
          "model_module": "@jupyter-widgets/controls",
          "model_name": "HBoxModel",
          "model_module_version": "1.5.0",
          "state": {
            "_dom_classes": [],
            "_model_module": "@jupyter-widgets/controls",
            "_model_module_version": "1.5.0",
            "_model_name": "HBoxModel",
            "_view_count": null,
            "_view_module": "@jupyter-widgets/controls",
            "_view_module_version": "1.5.0",
            "_view_name": "HBoxView",
            "box_style": "",
            "children": [
              "IPY_MODEL_eeb5bfc168e648ed8b52f3be6f207120",
              "IPY_MODEL_7ece3b7120ce448d9c236b33f2d62c12",
              "IPY_MODEL_d331865e39d947beac2d6c4e9e8105ca"
            ],
            "layout": "IPY_MODEL_3eeeba3da1d64bf7a33d83552b68002e"
          }
        },
        "eeb5bfc168e648ed8b52f3be6f207120": {
          "model_module": "@jupyter-widgets/controls",
          "model_name": "HTMLModel",
          "model_module_version": "1.5.0",
          "state": {
            "_dom_classes": [],
            "_model_module": "@jupyter-widgets/controls",
            "_model_module_version": "1.5.0",
            "_model_name": "HTMLModel",
            "_view_count": null,
            "_view_module": "@jupyter-widgets/controls",
            "_view_module_version": "1.5.0",
            "_view_name": "HTMLView",
            "description": "",
            "description_tooltip": null,
            "layout": "IPY_MODEL_212f1820d0e445f1981a7116f8a71de8",
            "placeholder": "​",
            "style": "IPY_MODEL_bd9b9010f3de4c1abc27c9a3132d7c1f",
            "value": "Downloading model.safetensors: 100%"
          }
        },
        "7ece3b7120ce448d9c236b33f2d62c12": {
          "model_module": "@jupyter-widgets/controls",
          "model_name": "FloatProgressModel",
          "model_module_version": "1.5.0",
          "state": {
            "_dom_classes": [],
            "_model_module": "@jupyter-widgets/controls",
            "_model_module_version": "1.5.0",
            "_model_name": "FloatProgressModel",
            "_view_count": null,
            "_view_module": "@jupyter-widgets/controls",
            "_view_module_version": "1.5.0",
            "_view_name": "ProgressView",
            "bar_style": "success",
            "description": "",
            "description_tooltip": null,
            "layout": "IPY_MODEL_59e130866c4c4a88aa87e70bf8e1ed95",
            "max": 440449768,
            "min": 0,
            "orientation": "horizontal",
            "style": "IPY_MODEL_688561271d46497e92b26d07501a4016",
            "value": 440449768
          }
        },
        "d331865e39d947beac2d6c4e9e8105ca": {
          "model_module": "@jupyter-widgets/controls",
          "model_name": "HTMLModel",
          "model_module_version": "1.5.0",
          "state": {
            "_dom_classes": [],
            "_model_module": "@jupyter-widgets/controls",
            "_model_module_version": "1.5.0",
            "_model_name": "HTMLModel",
            "_view_count": null,
            "_view_module": "@jupyter-widgets/controls",
            "_view_module_version": "1.5.0",
            "_view_name": "HTMLView",
            "description": "",
            "description_tooltip": null,
            "layout": "IPY_MODEL_358363d2510244ee99440effb0bb86bf",
            "placeholder": "​",
            "style": "IPY_MODEL_9196bddbec094d08924fa3a69f507234",
            "value": " 440M/440M [00:05&lt;00:00, 71.9MB/s]"
          }
        },
        "3eeeba3da1d64bf7a33d83552b68002e": {
          "model_module": "@jupyter-widgets/base",
          "model_name": "LayoutModel",
          "model_module_version": "1.2.0",
          "state": {
            "_model_module": "@jupyter-widgets/base",
            "_model_module_version": "1.2.0",
            "_model_name": "LayoutModel",
            "_view_count": null,
            "_view_module": "@jupyter-widgets/base",
            "_view_module_version": "1.2.0",
            "_view_name": "LayoutView",
            "align_content": null,
            "align_items": null,
            "align_self": null,
            "border": null,
            "bottom": null,
            "display": null,
            "flex": null,
            "flex_flow": null,
            "grid_area": null,
            "grid_auto_columns": null,
            "grid_auto_flow": null,
            "grid_auto_rows": null,
            "grid_column": null,
            "grid_gap": null,
            "grid_row": null,
            "grid_template_areas": null,
            "grid_template_columns": null,
            "grid_template_rows": null,
            "height": null,
            "justify_content": null,
            "justify_items": null,
            "left": null,
            "margin": null,
            "max_height": null,
            "max_width": null,
            "min_height": null,
            "min_width": null,
            "object_fit": null,
            "object_position": null,
            "order": null,
            "overflow": null,
            "overflow_x": null,
            "overflow_y": null,
            "padding": null,
            "right": null,
            "top": null,
            "visibility": null,
            "width": null
          }
        },
        "212f1820d0e445f1981a7116f8a71de8": {
          "model_module": "@jupyter-widgets/base",
          "model_name": "LayoutModel",
          "model_module_version": "1.2.0",
          "state": {
            "_model_module": "@jupyter-widgets/base",
            "_model_module_version": "1.2.0",
            "_model_name": "LayoutModel",
            "_view_count": null,
            "_view_module": "@jupyter-widgets/base",
            "_view_module_version": "1.2.0",
            "_view_name": "LayoutView",
            "align_content": null,
            "align_items": null,
            "align_self": null,
            "border": null,
            "bottom": null,
            "display": null,
            "flex": null,
            "flex_flow": null,
            "grid_area": null,
            "grid_auto_columns": null,
            "grid_auto_flow": null,
            "grid_auto_rows": null,
            "grid_column": null,
            "grid_gap": null,
            "grid_row": null,
            "grid_template_areas": null,
            "grid_template_columns": null,
            "grid_template_rows": null,
            "height": null,
            "justify_content": null,
            "justify_items": null,
            "left": null,
            "margin": null,
            "max_height": null,
            "max_width": null,
            "min_height": null,
            "min_width": null,
            "object_fit": null,
            "object_position": null,
            "order": null,
            "overflow": null,
            "overflow_x": null,
            "overflow_y": null,
            "padding": null,
            "right": null,
            "top": null,
            "visibility": null,
            "width": null
          }
        },
        "bd9b9010f3de4c1abc27c9a3132d7c1f": {
          "model_module": "@jupyter-widgets/controls",
          "model_name": "DescriptionStyleModel",
          "model_module_version": "1.5.0",
          "state": {
            "_model_module": "@jupyter-widgets/controls",
            "_model_module_version": "1.5.0",
            "_model_name": "DescriptionStyleModel",
            "_view_count": null,
            "_view_module": "@jupyter-widgets/base",
            "_view_module_version": "1.2.0",
            "_view_name": "StyleView",
            "description_width": ""
          }
        },
        "59e130866c4c4a88aa87e70bf8e1ed95": {
          "model_module": "@jupyter-widgets/base",
          "model_name": "LayoutModel",
          "model_module_version": "1.2.0",
          "state": {
            "_model_module": "@jupyter-widgets/base",
            "_model_module_version": "1.2.0",
            "_model_name": "LayoutModel",
            "_view_count": null,
            "_view_module": "@jupyter-widgets/base",
            "_view_module_version": "1.2.0",
            "_view_name": "LayoutView",
            "align_content": null,
            "align_items": null,
            "align_self": null,
            "border": null,
            "bottom": null,
            "display": null,
            "flex": null,
            "flex_flow": null,
            "grid_area": null,
            "grid_auto_columns": null,
            "grid_auto_flow": null,
            "grid_auto_rows": null,
            "grid_column": null,
            "grid_gap": null,
            "grid_row": null,
            "grid_template_areas": null,
            "grid_template_columns": null,
            "grid_template_rows": null,
            "height": null,
            "justify_content": null,
            "justify_items": null,
            "left": null,
            "margin": null,
            "max_height": null,
            "max_width": null,
            "min_height": null,
            "min_width": null,
            "object_fit": null,
            "object_position": null,
            "order": null,
            "overflow": null,
            "overflow_x": null,
            "overflow_y": null,
            "padding": null,
            "right": null,
            "top": null,
            "visibility": null,
            "width": null
          }
        },
        "688561271d46497e92b26d07501a4016": {
          "model_module": "@jupyter-widgets/controls",
          "model_name": "ProgressStyleModel",
          "model_module_version": "1.5.0",
          "state": {
            "_model_module": "@jupyter-widgets/controls",
            "_model_module_version": "1.5.0",
            "_model_name": "ProgressStyleModel",
            "_view_count": null,
            "_view_module": "@jupyter-widgets/base",
            "_view_module_version": "1.2.0",
            "_view_name": "StyleView",
            "bar_color": null,
            "description_width": ""
          }
        },
        "358363d2510244ee99440effb0bb86bf": {
          "model_module": "@jupyter-widgets/base",
          "model_name": "LayoutModel",
          "model_module_version": "1.2.0",
          "state": {
            "_model_module": "@jupyter-widgets/base",
            "_model_module_version": "1.2.0",
            "_model_name": "LayoutModel",
            "_view_count": null,
            "_view_module": "@jupyter-widgets/base",
            "_view_module_version": "1.2.0",
            "_view_name": "LayoutView",
            "align_content": null,
            "align_items": null,
            "align_self": null,
            "border": null,
            "bottom": null,
            "display": null,
            "flex": null,
            "flex_flow": null,
            "grid_area": null,
            "grid_auto_columns": null,
            "grid_auto_flow": null,
            "grid_auto_rows": null,
            "grid_column": null,
            "grid_gap": null,
            "grid_row": null,
            "grid_template_areas": null,
            "grid_template_columns": null,
            "grid_template_rows": null,
            "height": null,
            "justify_content": null,
            "justify_items": null,
            "left": null,
            "margin": null,
            "max_height": null,
            "max_width": null,
            "min_height": null,
            "min_width": null,
            "object_fit": null,
            "object_position": null,
            "order": null,
            "overflow": null,
            "overflow_x": null,
            "overflow_y": null,
            "padding": null,
            "right": null,
            "top": null,
            "visibility": null,
            "width": null
          }
        },
        "9196bddbec094d08924fa3a69f507234": {
          "model_module": "@jupyter-widgets/controls",
          "model_name": "DescriptionStyleModel",
          "model_module_version": "1.5.0",
          "state": {
            "_model_module": "@jupyter-widgets/controls",
            "_model_module_version": "1.5.0",
            "_model_name": "DescriptionStyleModel",
            "_view_count": null,
            "_view_module": "@jupyter-widgets/base",
            "_view_module_version": "1.2.0",
            "_view_name": "StyleView",
            "description_width": ""
          }
        }
      }
    }
  },
  "nbformat": 4,
  "nbformat_minor": 0
}